{
 "cells": [
  {
   "cell_type": "markdown",
   "id": "8385985e",
   "metadata": {},
   "source": [
    "# Recommender Systems: Neighborhood-Based Collaborative Filtering\n",
    "\n",
    "This notebook is a supplementary material for the Collaborative Filtering (CF) blog post at [Encora's Insights](https://www.encora.com/insights/all). Refer to the blog post to learn more about these methods.\n",
    "\n",
    "This notebook aims to demonstrate the strengths and limitations of neighborhood methods using a real-world dataset (Amazon Reviews). The provided code serves as a practical example for readers to better understand the concepts discussed in the blog post.\n",
    "\n",
    "Note: Please refer to [Preprocessing.ipynb](Preprocessing.ipynb) to see how the data must be preprocessed before proceeding with this Notebook.\n",
    "\n",
    "# Import the libraries"
   ]
  },
  {
   "cell_type": "code",
   "execution_count": 1,
   "id": "cee9e387",
   "metadata": {},
   "outputs": [],
   "source": [
    "import pandas as pd\n",
    "import numpy as np\n",
    "import ast\n",
    "from surprise import KNNBasic, KNNWithMeans\n",
    "from surprise import Dataset, Reader\n",
    "from surprise.similarities import cosine\n",
    "import pickle"
   ]
  },
  {
   "cell_type": "markdown",
   "id": "c01dc8b4",
   "metadata": {},
   "source": [
    "# Configurable Notebook Variables\n",
    "\n",
    "The variables below configure some of the processing steps performed in this Notebook."
   ]
  },
  {
   "cell_type": "code",
   "execution_count": 2,
   "id": "d6bb4d90",
   "metadata": {},
   "outputs": [],
   "source": [
    "SAVE_MERGE = True # if the merge between metadata and reviews should be saved\n",
    "SAVE_USER_MODEL = True # save the user-based CF model\n",
    "SAVE_ITEM_MODEL = True # save the item-based CF model"
   ]
  },
  {
   "cell_type": "markdown",
   "id": "593cab50",
   "metadata": {},
   "source": [
    "# Reading the data "
   ]
  },
  {
   "cell_type": "code",
   "execution_count": 3,
   "id": "dd8f737d",
   "metadata": {},
   "outputs": [],
   "source": [
    "kcore_5_compact_sample = pd.read_csv('dataset/kcore_5_compact_sample.csv', names=['reviewerID', 'asin', 'overall'], quotechar='\"') \n",
    "meta = pd.read_csv('dataset/metadata_sample.csv', names=['asin', 'categories', 'title', 'description', 'related'], converters={'categories': pd.eval}, quotechar='\"')"
   ]
  },
  {
   "cell_type": "markdown",
   "id": "b92c7cea",
   "metadata": {},
   "source": [
    "Let's convert the datatypes before working with the dataframe."
   ]
  },
  {
   "cell_type": "code",
   "execution_count": 4,
   "id": "ba9598b6",
   "metadata": {},
   "outputs": [
    {
     "name": "stdout",
     "output_type": "stream",
     "text": [
      "\n",
      "reviewerID    object\n",
      "asin          object\n",
      "overall        int32\n",
      "dtype: object\n"
     ]
    },
    {
     "data": {
      "text/html": [
       "<div>\n",
       "<style scoped>\n",
       "    .dataframe tbody tr th:only-of-type {\n",
       "        vertical-align: middle;\n",
       "    }\n",
       "\n",
       "    .dataframe tbody tr th {\n",
       "        vertical-align: top;\n",
       "    }\n",
       "\n",
       "    .dataframe thead th {\n",
       "        text-align: right;\n",
       "    }\n",
       "</style>\n",
       "<table border=\"1\" class=\"dataframe\">\n",
       "  <thead>\n",
       "    <tr style=\"text-align: right;\">\n",
       "      <th></th>\n",
       "      <th>reviewerID</th>\n",
       "      <th>asin</th>\n",
       "      <th>overall</th>\n",
       "    </tr>\n",
       "  </thead>\n",
       "  <tbody>\n",
       "    <tr>\n",
       "      <th>0</th>\n",
       "      <td>A2HWI21H23GDS4</td>\n",
       "      <td>0000589012</td>\n",
       "      <td>4</td>\n",
       "    </tr>\n",
       "    <tr>\n",
       "      <th>1</th>\n",
       "      <td>A20BIPRPD473RD</td>\n",
       "      <td>000100039X</td>\n",
       "      <td>5</td>\n",
       "    </tr>\n",
       "    <tr>\n",
       "      <th>2</th>\n",
       "      <td>A9WX8DK93SN5</td>\n",
       "      <td>000100039X</td>\n",
       "      <td>1</td>\n",
       "    </tr>\n",
       "    <tr>\n",
       "      <th>3</th>\n",
       "      <td>A2OKG8UA0G4OXS</td>\n",
       "      <td>000100039X</td>\n",
       "      <td>5</td>\n",
       "    </tr>\n",
       "    <tr>\n",
       "      <th>4</th>\n",
       "      <td>AU837CQMP7EDF</td>\n",
       "      <td>000100039X</td>\n",
       "      <td>5</td>\n",
       "    </tr>\n",
       "  </tbody>\n",
       "</table>\n",
       "</div>"
      ],
      "text/plain": [
       "       reviewerID        asin  overall\n",
       "0  A2HWI21H23GDS4  0000589012        4\n",
       "1  A20BIPRPD473RD  000100039X        5\n",
       "2    A9WX8DK93SN5  000100039X        1\n",
       "3  A2OKG8UA0G4OXS  000100039X        5\n",
       "4   AU837CQMP7EDF  000100039X        5"
      ]
     },
     "execution_count": 4,
     "metadata": {},
     "output_type": "execute_result"
    }
   ],
   "source": [
    "kcore_5_compact_sample['overall'] = kcore_5_compact_sample['overall'].astype('int')\n",
    "print()\n",
    "print(kcore_5_compact_sample.dtypes)\n",
    "kcore_5_compact_sample.head()"
   ]
  },
  {
   "cell_type": "code",
   "execution_count": 5,
   "id": "2c5d5751",
   "metadata": {},
   "outputs": [
    {
     "data": {
      "text/plain": [
       "array([[<AxesSubplot:title={'center':'overall'}>]], dtype=object)"
      ]
     },
     "execution_count": 5,
     "metadata": {},
     "output_type": "execute_result"
    },
    {
     "data": {
      "image/png": "[encoded data removed]",
      "text/plain": [
       "<Figure size 640x480 with 1 Axes>"
      ]
     },
     "metadata": {},
     "output_type": "display_data"
    }
   ],
   "source": [
    "kcore_5_compact_sample.hist(column='overall', grid=False)"
   ]
  },
  {
   "cell_type": "code",
   "execution_count": 6,
   "id": "6e4c2738",
   "metadata": {},
   "outputs": [
    {
     "name": "stdout",
     "output_type": "stream",
     "text": [
      "asin           object\n",
      "categories     object\n",
      "title          object\n",
      "description    object\n",
      "related        object\n",
      "dtype: object\n"
     ]
    },
    {
     "data": {
      "text/html": [
       "<div>\n",
       "<style scoped>\n",
       "    .dataframe tbody tr th:only-of-type {\n",
       "        vertical-align: middle;\n",
       "    }\n",
       "\n",
       "    .dataframe tbody tr th {\n",
       "        vertical-align: top;\n",
       "    }\n",
       "\n",
       "    .dataframe thead th {\n",
       "        text-align: right;\n",
       "    }\n",
       "</style>\n",
       "<table border=\"1\" class=\"dataframe\">\n",
       "  <thead>\n",
       "    <tr style=\"text-align: right;\">\n",
       "      <th></th>\n",
       "      <th>asin</th>\n",
       "      <th>categories</th>\n",
       "      <th>title</th>\n",
       "      <th>description</th>\n",
       "      <th>related</th>\n",
       "    </tr>\n",
       "  </thead>\n",
       "  <tbody>\n",
       "    <tr>\n",
       "      <th>0</th>\n",
       "      <td>0000589012</td>\n",
       "      <td>[[Movies &amp; TV, Movies]]</td>\n",
       "      <td>Why Don't They Just Quit? DVD Roundtable Discu...</td>\n",
       "      <td>NaN</td>\n",
       "      <td>{'also_bought': ['B000Z3N1HQ', '0578045427', '...</td>\n",
       "    </tr>\n",
       "    <tr>\n",
       "      <th>1</th>\n",
       "      <td>000100039X</td>\n",
       "      <td>[[Books]]</td>\n",
       "      <td>The Prophet</td>\n",
       "      <td>In a distant, timeless place, a mysterious pro...</td>\n",
       "      <td>{'also_bought': ['1851686274', '0785830618', '...</td>\n",
       "    </tr>\n",
       "    <tr>\n",
       "      <th>2</th>\n",
       "      <td>0002051850</td>\n",
       "      <td>[[Books]]</td>\n",
       "      <td>For Whom the Bell Tolls</td>\n",
       "      <td>NaN</td>\n",
       "      <td>{'also_bought': ['0684801469', '0743297334', '...</td>\n",
       "    </tr>\n",
       "    <tr>\n",
       "      <th>3</th>\n",
       "      <td>0002007770</td>\n",
       "      <td>[[Books]]</td>\n",
       "      <td>Water For Elephants</td>\n",
       "      <td>NaN</td>\n",
       "      <td>{'also_bought': ['0399155341', '1573222453', '...</td>\n",
       "    </tr>\n",
       "    <tr>\n",
       "      <th>4</th>\n",
       "      <td>0002247399</td>\n",
       "      <td>[[Books]]</td>\n",
       "      <td>A Dance with Dragons</td>\n",
       "      <td>NaN</td>\n",
       "      <td>{'also_bought': ['0553801503', '0553106635', '...</td>\n",
       "    </tr>\n",
       "  </tbody>\n",
       "</table>\n",
       "</div>"
      ],
      "text/plain": [
       "         asin               categories  \\\n",
       "0  0000589012  [[Movies & TV, Movies]]   \n",
       "1  000100039X                [[Books]]   \n",
       "2  0002051850                [[Books]]   \n",
       "3  0002007770                [[Books]]   \n",
       "4  0002247399                [[Books]]   \n",
       "\n",
       "                                               title  \\\n",
       "0  Why Don't They Just Quit? DVD Roundtable Discu...   \n",
       "1                                        The Prophet   \n",
       "2                            For Whom the Bell Tolls   \n",
       "3                                Water For Elephants   \n",
       "4                               A Dance with Dragons   \n",
       "\n",
       "                                         description  \\\n",
       "0                                                NaN   \n",
       "1  In a distant, timeless place, a mysterious pro...   \n",
       "2                                                NaN   \n",
       "3                                                NaN   \n",
       "4                                                NaN   \n",
       "\n",
       "                                             related  \n",
       "0  {'also_bought': ['B000Z3N1HQ', '0578045427', '...  \n",
       "1  {'also_bought': ['1851686274', '0785830618', '...  \n",
       "2  {'also_bought': ['0684801469', '0743297334', '...  \n",
       "3  {'also_bought': ['0399155341', '1573222453', '...  \n",
       "4  {'also_bought': ['0553801503', '0553106635', '...  "
      ]
     },
     "execution_count": 6,
     "metadata": {},
     "output_type": "execute_result"
    }
   ],
   "source": [
    "print(meta.dtypes)\n",
    "meta.head()"
   ]
  },
  {
   "cell_type": "code",
   "execution_count": 7,
   "id": "53774ed7",
   "metadata": {},
   "outputs": [
    {
     "name": "stdout",
     "output_type": "stream",
     "text": [
      "87849\n"
     ]
    },
    {
     "data": {
      "text/plain": [
       "0    Movies & TV, Movies\n",
       "1                  Books\n",
       "2                  Books\n",
       "3                  Books\n",
       "4                  Books\n",
       "Name: categories, dtype: object"
      ]
     },
     "execution_count": 7,
     "metadata": {},
     "output_type": "execute_result"
    }
   ],
   "source": [
    "meta['categories'] = meta['categories'].apply(lambda x: ', '.join([elem for list_elem in x for elem in list_elem])).astype(str)\n",
    "meta['related'] = meta['related'].apply(lambda x: ast.literal_eval(x) if not pd.isnull(x) else None)\n",
    "print(len(meta))\n",
    "meta['categories'].head()"
   ]
  },
  {
   "cell_type": "markdown",
   "id": "a95a4e98",
   "metadata": {},
   "source": [
    "## Joining reviews and product metadata"
   ]
  },
  {
   "cell_type": "markdown",
   "id": "cd7920eb",
   "metadata": {},
   "source": [
    "Neighborhood-based collaborative filtering methods require a significant amount of memory, so we reduce the dataset size to ensure the user-based and item-based matrices fits within the available memory, but we resample the data in a way we have enough of it to demonstrate the examples.\n",
    "\n",
    "Next, we merge both the reviews and metadata samples into a single reviews sample by using the product ID."
   ]
  },
  {
   "cell_type": "code",
   "execution_count": 8,
   "id": "b3ce8468",
   "metadata": {},
   "outputs": [
    {
     "data": {
      "text/html": [
       "<div>\n",
       "<style scoped>\n",
       "    .dataframe tbody tr th:only-of-type {\n",
       "        vertical-align: middle;\n",
       "    }\n",
       "\n",
       "    .dataframe tbody tr th {\n",
       "        vertical-align: top;\n",
       "    }\n",
       "\n",
       "    .dataframe thead th {\n",
       "        text-align: right;\n",
       "    }\n",
       "</style>\n",
       "<table border=\"1\" class=\"dataframe\">\n",
       "  <thead>\n",
       "    <tr style=\"text-align: right;\">\n",
       "      <th></th>\n",
       "      <th>reviewerID</th>\n",
       "      <th>asin</th>\n",
       "      <th>overall</th>\n",
       "      <th>categories</th>\n",
       "      <th>title</th>\n",
       "      <th>description</th>\n",
       "      <th>related</th>\n",
       "    </tr>\n",
       "  </thead>\n",
       "  <tbody>\n",
       "    <tr>\n",
       "      <th>0</th>\n",
       "      <td>A20BIPRPD473RD</td>\n",
       "      <td>000100039X</td>\n",
       "      <td>5</td>\n",
       "      <td>Books</td>\n",
       "      <td>The Prophet</td>\n",
       "      <td>In a distant, timeless place, a mysterious pro...</td>\n",
       "      <td>{'also_bought': ['1851686274', '0785830618', '...</td>\n",
       "    </tr>\n",
       "    <tr>\n",
       "      <th>1</th>\n",
       "      <td>A9WX8DK93SN5</td>\n",
       "      <td>000100039X</td>\n",
       "      <td>1</td>\n",
       "      <td>Books</td>\n",
       "      <td>The Prophet</td>\n",
       "      <td>In a distant, timeless place, a mysterious pro...</td>\n",
       "      <td>{'also_bought': ['1851686274', '0785830618', '...</td>\n",
       "    </tr>\n",
       "    <tr>\n",
       "      <th>2</th>\n",
       "      <td>A2OKG8UA0G4OXS</td>\n",
       "      <td>000100039X</td>\n",
       "      <td>5</td>\n",
       "      <td>Books</td>\n",
       "      <td>The Prophet</td>\n",
       "      <td>In a distant, timeless place, a mysterious pro...</td>\n",
       "      <td>{'also_bought': ['1851686274', '0785830618', '...</td>\n",
       "    </tr>\n",
       "    <tr>\n",
       "      <th>3</th>\n",
       "      <td>AU837CQMP7EDF</td>\n",
       "      <td>000100039X</td>\n",
       "      <td>5</td>\n",
       "      <td>Books</td>\n",
       "      <td>The Prophet</td>\n",
       "      <td>In a distant, timeless place, a mysterious pro...</td>\n",
       "      <td>{'also_bought': ['1851686274', '0785830618', '...</td>\n",
       "    </tr>\n",
       "    <tr>\n",
       "      <th>4</th>\n",
       "      <td>A1DW9QEARBGRFO</td>\n",
       "      <td>000100039X</td>\n",
       "      <td>4</td>\n",
       "      <td>Books</td>\n",
       "      <td>The Prophet</td>\n",
       "      <td>In a distant, timeless place, a mysterious pro...</td>\n",
       "      <td>{'also_bought': ['1851686274', '0785830618', '...</td>\n",
       "    </tr>\n",
       "  </tbody>\n",
       "</table>\n",
       "</div>"
      ],
      "text/plain": [
       "       reviewerID        asin  overall categories        title  \\\n",
       "0  A20BIPRPD473RD  000100039X        5      Books  The Prophet   \n",
       "1    A9WX8DK93SN5  000100039X        1      Books  The Prophet   \n",
       "2  A2OKG8UA0G4OXS  000100039X        5      Books  The Prophet   \n",
       "3   AU837CQMP7EDF  000100039X        5      Books  The Prophet   \n",
       "4  A1DW9QEARBGRFO  000100039X        4      Books  The Prophet   \n",
       "\n",
       "                                         description  \\\n",
       "0  In a distant, timeless place, a mysterious pro...   \n",
       "1  In a distant, timeless place, a mysterious pro...   \n",
       "2  In a distant, timeless place, a mysterious pro...   \n",
       "3  In a distant, timeless place, a mysterious pro...   \n",
       "4  In a distant, timeless place, a mysterious pro...   \n",
       "\n",
       "                                             related  \n",
       "0  {'also_bought': ['1851686274', '0785830618', '...  \n",
       "1  {'also_bought': ['1851686274', '0785830618', '...  \n",
       "2  {'also_bought': ['1851686274', '0785830618', '...  \n",
       "3  {'also_bought': ['1851686274', '0785830618', '...  \n",
       "4  {'also_bought': ['1851686274', '0785830618', '...  "
      ]
     },
     "execution_count": 8,
     "metadata": {},
     "output_type": "execute_result"
    }
   ],
   "source": [
    "try:\n",
    "    reviews_sample = pd.read_json('dataset/reviews_meta_simplified.json', lines=True)    \n",
    "except ValueError:\n",
    "    items_count = kcore_5_compact_sample.groupby('asin').size()\n",
    "    reviews_sample = kcore_5_compact_sample[kcore_5_compact_sample['asin'].isin(items_count[items_count > 1].index)]\n",
    "    reviews_sample = reviews_sample[['reviewerID', 'asin', 'overall']].merge(meta, on='asin', how='inner')\n",
    "\n",
    "if SAVE_MERGE:\n",
    "    reviews_sample.to_json('dataset/reviews_meta_simplified.json', orient='records', lines=True)\n",
    "\n",
    "reviews_sample.head()"
   ]
  },
  {
   "cell_type": "code",
   "execution_count": 9,
   "id": "625b359d",
   "metadata": {},
   "outputs": [
    {
     "name": "stdout",
     "output_type": "stream",
     "text": [
      "Number of times the most reviewed item was reviewed:  41\n",
      "Number of times the least reviewed item was reviewed:  2\n",
      "Number of times the user that made most reviews made a review:  159\n",
      "Number of times the user that made least reviews made a review:  1\n"
     ]
    }
   ],
   "source": [
    "items_count = reviews_sample.groupby('asin').size().sort_values()\n",
    "print('Number of times the most reviewed item was reviewed: ', items_count.iloc[-1])\n",
    "print('Number of times the least reviewed item was reviewed: ', items_count.iloc[0])\n",
    "users_count = reviews_sample.groupby('reviewerID').size().sort_values()\n",
    "print('Number of times the user that made most reviews made a review: ', users_count.iloc[-1])\n",
    "print('Number of times the user that made least reviews made a review: ', users_count.iloc[0])"
   ]
  },
  {
   "cell_type": "markdown",
   "id": "e16d1e2f",
   "metadata": {},
   "source": [
    "# Running recommendations with a Collaborative Filtering Recommender System\n",
    "\n",
    "For this demonstration, we use the surprise library to implement the collaborative filtering methods. As described on its home page:\n",
    "\n",
    "> Surprise is a Python scikit for building and analyzing recommender systems that deal with explicit rating data.\n",
    ">Surprise was designed with the following purposes in mind:\n",
    ">* Give users perfect control over their experiments. To this end, a strong emphasis is laid on documentation, which we have tried to make as clear and precise as possible by pointing out every detail of the algorithms.\n",
    ">* Alleviate the pain of Dataset handling. Users can use both built-in datasets (Movielens, Jester), and their own custom datasets.\n",
    ">* Provide various ready-to-use prediction algorithms such as baseline algorithms, neighborhood methods, matrix factorization-based ( SVD, PMF, SVD++, NMF), and many others. Also, various similarity measures (cosine, MSD, pearson…) are built-in.\n",
    ">* Make it easy to implement new algorithm ideas.\n",
    ">* Provide tools to evaluate, analyse and compare the algorithms’ performance. Cross-validation procedures can be run very easily using powerful CV iterators (inspired by scikit-learn excellent tools), as well as exhaustive search over a set of parameters.\n",
    "\n",
    "First, we need to read the dataframe and build a trainset object, which contains a set of attributes that will be useful when interpreting the results of the models. This class is also used by the fit() method of every prediction algorithm from the library.  "
   ]
  },
  {
   "cell_type": "code",
   "execution_count": 10,
   "id": "25dce136",
   "metadata": {
    "scrolled": true
   },
   "outputs": [
    {
     "name": "stdout",
     "output_type": "stream",
     "text": [
      "User-item matrix shape: 8440 x 12557\n"
     ]
    }
   ],
   "source": [
    "reader = Reader(rating_scale=(1, 5))\n",
    "data = Dataset.load_from_df(reviews_sample[['reviewerID', 'asin', 'overall']], reader)\n",
    "trainset = data.build_full_trainset()\n",
    "print(f'User-item matrix shape: {trainset.n_users} x {trainset.n_items}')"
   ]
  },
  {
   "cell_type": "markdown",
   "id": "bb2ab352",
   "metadata": {},
   "source": [
    "The utility functions below will be used to interpret the results of the algorithm when we apply it to some examples. "
   ]
  },
  {
   "cell_type": "code",
   "execution_count": 11,
   "id": "de323db9",
   "metadata": {},
   "outputs": [],
   "source": [
    "def translate_recommendations(neighbors, user_based: bool):\n",
    "    recommendations = list()\n",
    "    if user_based:\n",
    "        for user in neighbors:\n",
    "            recommendations.append(trainset.to_raw_uid(user))\n",
    "    else:\n",
    "        for item in neighbors:\n",
    "            recommendations.append(trainset.to_raw_iid(item))      \n",
    "    return recommendations\n",
    "\n",
    "def get_recommendations_metadata(df, user_item_column, recommendations):\n",
    "    recommendation_order = dict(zip(recommendations, range(len(recommendations))))\n",
    "    return df.loc[df[user_item_column].map(recommendation_order).dropna().sort_values().index]\n",
    "\n",
    "def get_common_also_bought(also_bought, rated_item_list):\n",
    "    items_also_bought = list()\n",
    "    for item_also_bought in also_bought.values:\n",
    "        try:\n",
    "            items = item_also_bought['also_bought']\n",
    "            for item in items:\n",
    "                if item in rated_item_list:\n",
    "                    items_also_bought.append(item)\n",
    "        except:\n",
    "            pass\n",
    "    return [item for item in set(items_also_bought)]"
   ]
  },
  {
   "cell_type": "markdown",
   "id": "1a052f5e",
   "metadata": {},
   "source": [
    "# Item-based recommendations\n",
    "\n",
    "We'll train a nearest neighbors model to do item-based recommendations, taking into account the mean ratings of each item. The KNNWithMeans class is interesting to use because it returns the mean of the ratings of a query item when it does not have enough neighbors. This parameter is defined as *min_k*, which is assigned a value of 1 by default.\n",
    "\n",
    "This is the formula used by the **KNNWithMeans class**:\n",
    "\n",
    "$ \\large \\hat{r}_{ui} = \\mu_i + \\frac{ \\sum\\limits_{j \\in N^k_u(i)}\n",
    "\\text{sim}(i, j) \\cdot (r_{uj} - \\mu_j)} {\\sum\\limits_{j \\in\n",
    "N^k_u(i)} \\text{sim}(i, j)} $\n",
    "\n",
    "\n",
    "For the similarity measure, we use the **pearson baseline** because it is a good measure for sparse datasets. Differently from cosine, it can be used to compare the similarity between items rated at different scales, a typical case observed in how user rates content. This similarity measure in particular uses baselines for centering instead of means. To gain a deeper understanding of how baselines are calculated, see section 5.2.1 of the book [Ricci et. al. (2011). Recommender Systems Handbook] .\n",
    "\n",
    "$\\large \\text{pearson_baseline_sim}(i, j) = \\hat{\\rho}_{ij} = \\frac{\n",
    "    \\sum\\limits_{u \\in U_{ij}} (r_{ui} -  b_{ui}) \\cdot (r_{uj} -\n",
    "    b_{uj})} {\\sqrt{\\sum\\limits_{u \\in U_{ij}} (r_{ui} -  b_{ui})^2}\n",
    "    \\cdot \\sqrt{\\sum\\limits_{u \\in U_{ij}} (r_{uj} -  b_{uj})^2}}$\n",
    "\n",
    "\n",
    "The shrinkage parameter below helps to avoid overfitting when few ratings are available. Default shrinkage is 100.\n",
    "\n",
    "$\\large \\text{pearson_baseline_shrunk_sim}(i, j) = \\frac{|U_{ij}| - 1}\n",
    "{|U_{ij}| - 1 + \\text{shrinkage}} \\cdot \\hat{\\rho}_{ij}$\n",
    "\n",
    "The model will store the similarity matrix in memory."
   ]
  },
  {
   "cell_type": "code",
   "execution_count": 12,
   "id": "2a9f814f",
   "metadata": {
    "scrolled": true
   },
   "outputs": [
    {
     "name": "stdout",
     "output_type": "stream",
     "text": [
      "Estimating biases using als...\n",
      "Computing the pearson_baseline similarity matrix...\n",
      "Done computing similarity matrix.\n"
     ]
    }
   ],
   "source": [
    "try:\n",
    "    KNNMeans_item = pickle.load(open('model/KNNMeans_item.models', 'rb')) \n",
    "except FileNotFoundError:\n",
    "    KNNMeans_item = KNNWithMeans(sim_options = {'name': 'pearson_baseline', 'user_based': False })\n",
    "    KNNMeans_item.fit(trainset)  \n",
    "\n",
    "if SAVE_ITEM_MODEL:\n",
    "    pickle.dump(KNNMeans_item, open('model/KNNMeans_item.model', 'wb'))"
   ]
  },
  {
   "cell_type": "markdown",
   "id": "b5713cd9",
   "metadata": {},
   "source": [
    "## Cold Start problem\n",
    "\n",
    "The cold-start problem refers to the difficulty in providing accurate recommendations for new users or items due to a lack of past data associated with them. This can be observed in this example by looking at the items in the metadata dataframe that are not present in the reviews_sample dataframe. Although these items exists in the item catalog, they will never be recommended, at this moment, due to the lack of ratings.\n",
    "\n",
    "Here are some examples of items that are on this situation:"
   ]
  },
  {
   "cell_type": "code",
   "execution_count": 13,
   "id": "1686a00e",
   "metadata": {},
   "outputs": [
    {
     "data": {
      "text/html": [
       "<div>\n",
       "<style scoped>\n",
       "    .dataframe tbody tr th:only-of-type {\n",
       "        vertical-align: middle;\n",
       "    }\n",
       "\n",
       "    .dataframe tbody tr th {\n",
       "        vertical-align: top;\n",
       "    }\n",
       "\n",
       "    .dataframe thead th {\n",
       "        text-align: right;\n",
       "    }\n",
       "</style>\n",
       "<table border=\"1\" class=\"dataframe\">\n",
       "  <thead>\n",
       "    <tr style=\"text-align: right;\">\n",
       "      <th></th>\n",
       "      <th>asin</th>\n",
       "      <th>categories</th>\n",
       "      <th>title</th>\n",
       "      <th>description</th>\n",
       "      <th>related</th>\n",
       "      <th>overall</th>\n",
       "    </tr>\n",
       "  </thead>\n",
       "  <tbody>\n",
       "    <tr>\n",
       "      <th>0</th>\n",
       "      <td>0000589012</td>\n",
       "      <td>Movies &amp; TV, Movies</td>\n",
       "      <td>Why Don't They Just Quit? DVD Roundtable Discu...</td>\n",
       "      <td>NaN</td>\n",
       "      <td>{'also_bought': ['B000Z3N1HQ', '0578045427', '...</td>\n",
       "      <td>NaN</td>\n",
       "    </tr>\n",
       "    <tr>\n",
       "      <th>38</th>\n",
       "      <td>0002242052</td>\n",
       "      <td>Books</td>\n",
       "      <td>Without Remorse</td>\n",
       "      <td>NaN</td>\n",
       "      <td>{'also_bought': ['0399139540', '0399133453', '...</td>\n",
       "      <td>NaN</td>\n",
       "    </tr>\n",
       "    <tr>\n",
       "      <th>39</th>\n",
       "      <td>0002550938</td>\n",
       "      <td>Books</td>\n",
       "      <td>Sahara (Dirk Pitt Adventure)</td>\n",
       "      <td>Cussler's ( Raise the Titanic ) durable hero D...</td>\n",
       "      <td>{'also_bought': ['0671626191', '067150374X', '...</td>\n",
       "      <td>NaN</td>\n",
       "    </tr>\n",
       "    <tr>\n",
       "      <th>40</th>\n",
       "      <td>0004707532</td>\n",
       "      <td>Books</td>\n",
       "      <td>Collins Gem Irish Dictionary</td>\n",
       "      <td>Text: English</td>\n",
       "      <td>{'also_viewed': ['0007324960', '1857910478', '...</td>\n",
       "      <td>NaN</td>\n",
       "    </tr>\n",
       "    <tr>\n",
       "      <th>41</th>\n",
       "      <td>0005119367</td>\n",
       "      <td>Movies &amp; TV, TV</td>\n",
       "      <td>Joseph [VHS]</td>\n",
       "      <td>Ben Kingsley(star of 1993's Best Picture, Stev...</td>\n",
       "      <td>{'also_bought': ['6303257828', '0005119359', '...</td>\n",
       "      <td>NaN</td>\n",
       "    </tr>\n",
       "  </tbody>\n",
       "</table>\n",
       "</div>"
      ],
      "text/plain": [
       "          asin           categories  \\\n",
       "0   0000589012  Movies & TV, Movies   \n",
       "38  0002242052                Books   \n",
       "39  0002550938                Books   \n",
       "40  0004707532                Books   \n",
       "41  0005119367      Movies & TV, TV   \n",
       "\n",
       "                                                title  \\\n",
       "0   Why Don't They Just Quit? DVD Roundtable Discu...   \n",
       "38                                    Without Remorse   \n",
       "39                       Sahara (Dirk Pitt Adventure)   \n",
       "40                       Collins Gem Irish Dictionary   \n",
       "41                                       Joseph [VHS]   \n",
       "\n",
       "                                          description  \\\n",
       "0                                                 NaN   \n",
       "38                                                NaN   \n",
       "39  Cussler's ( Raise the Titanic ) durable hero D...   \n",
       "40                                      Text: English   \n",
       "41  Ben Kingsley(star of 1993's Best Picture, Stev...   \n",
       "\n",
       "                                              related  overall  \n",
       "0   {'also_bought': ['B000Z3N1HQ', '0578045427', '...      NaN  \n",
       "38  {'also_bought': ['0399139540', '0399133453', '...      NaN  \n",
       "39  {'also_bought': ['0671626191', '067150374X', '...      NaN  \n",
       "40  {'also_viewed': ['0007324960', '1857910478', '...      NaN  \n",
       "41  {'also_bought': ['6303257828', '0005119359', '...      NaN  "
      ]
     },
     "execution_count": 13,
     "metadata": {},
     "output_type": "execute_result"
    }
   ],
   "source": [
    "meta_merge = meta.merge(reviews_sample[['asin', 'overall']], on='asin', how='left', indicator=True)\n",
    "meta_merge.query('_merge == \"left_only\"').drop(columns=['_merge']).head()"
   ]
  },
  {
   "cell_type": "markdown",
   "id": "e56239e0",
   "metadata": {},
   "source": [
    "## Predicting the rating a user would give to a item\n",
    "\n",
    "To make use of the item-based model with a practical example, we will select a item with a fair amount of ratings. In this case, *The Hunger Games* book. "
   ]
  },
  {
   "cell_type": "code",
   "execution_count": 14,
   "id": "338bde9c",
   "metadata": {},
   "outputs": [
    {
     "name": "stdout",
     "output_type": "stream",
     "text": [
      "Number of unique items in the sample: 12557\n"
     ]
    },
    {
     "data": {
      "text/html": [
       "<div>\n",
       "<style scoped>\n",
       "    .dataframe tbody tr th:only-of-type {\n",
       "        vertical-align: middle;\n",
       "    }\n",
       "\n",
       "    .dataframe tbody tr th {\n",
       "        vertical-align: top;\n",
       "    }\n",
       "\n",
       "    .dataframe thead th {\n",
       "        text-align: right;\n",
       "    }\n",
       "</style>\n",
       "<table border=\"1\" class=\"dataframe\">\n",
       "  <thead>\n",
       "    <tr style=\"text-align: right;\">\n",
       "      <th></th>\n",
       "      <th>asin</th>\n",
       "      <th>categories</th>\n",
       "      <th>title</th>\n",
       "      <th>description</th>\n",
       "      <th>related</th>\n",
       "    </tr>\n",
       "  </thead>\n",
       "  <tbody>\n",
       "    <tr>\n",
       "      <th>6997</th>\n",
       "      <td>0439023483</td>\n",
       "      <td>Books</td>\n",
       "      <td>The Hunger Games (The Hunger Games, Book 1)</td>\n",
       "      <td>Starred Review.Reviewed byMegan Whalen TurnerI...</td>\n",
       "      <td>{'also_bought': ['0439023491', '0439023513', '...</td>\n",
       "    </tr>\n",
       "  </tbody>\n",
       "</table>\n",
       "</div>"
      ],
      "text/plain": [
       "            asin categories                                        title  \\\n",
       "6997  0439023483      Books  The Hunger Games (The Hunger Games, Book 1)   \n",
       "\n",
       "                                            description  \\\n",
       "6997  Starred Review.Reviewed byMegan Whalen TurnerI...   \n",
       "\n",
       "                                                related  \n",
       "6997  {'also_bought': ['0439023491', '0439023513', '...  "
      ]
     },
     "execution_count": 14,
     "metadata": {},
     "output_type": "execute_result"
    }
   ],
   "source": [
    "n_items = len(items_count)\n",
    "print(f'Number of unique items in the sample: {n_items}')\n",
    "selected_item = reviews_sample[reviews_sample['title'] == 'The Hunger Games (The Hunger Games, Book 1)'].iloc[0]['asin']\n",
    "meta[meta['asin'] == selected_item]"
   ]
  },
  {
   "cell_type": "markdown",
   "id": "44ce6f8a",
   "metadata": {},
   "source": [
    "Next, we select a user that had rated the *The Hunger Games* book with rating = 4. We'll use the model to check if it is able to predict a similar rating."
   ]
  },
  {
   "cell_type": "code",
   "execution_count": 15,
   "id": "349f9119",
   "metadata": {},
   "outputs": [
    {
     "data": {
      "text/html": [
       "<div>\n",
       "<style scoped>\n",
       "    .dataframe tbody tr th:only-of-type {\n",
       "        vertical-align: middle;\n",
       "    }\n",
       "\n",
       "    .dataframe tbody tr th {\n",
       "        vertical-align: top;\n",
       "    }\n",
       "\n",
       "    .dataframe thead th {\n",
       "        text-align: right;\n",
       "    }\n",
       "</style>\n",
       "<table border=\"1\" class=\"dataframe\">\n",
       "  <thead>\n",
       "    <tr style=\"text-align: right;\">\n",
       "      <th></th>\n",
       "      <th>reviewerID</th>\n",
       "      <th>asin</th>\n",
       "      <th>overall</th>\n",
       "      <th>categories</th>\n",
       "      <th>title</th>\n",
       "      <th>description</th>\n",
       "      <th>related</th>\n",
       "    </tr>\n",
       "  </thead>\n",
       "  <tbody>\n",
       "    <tr>\n",
       "      <th>3938</th>\n",
       "      <td>A1G0DH7UQ4ILS6</td>\n",
       "      <td>0439023483</td>\n",
       "      <td>4</td>\n",
       "      <td>Books</td>\n",
       "      <td>The Hunger Games (The Hunger Games, Book 1)</td>\n",
       "      <td>Starred Review.Reviewed byMegan Whalen TurnerI...</td>\n",
       "      <td>{'also_bought': ['0439023491', '0439023513', '...</td>\n",
       "    </tr>\n",
       "  </tbody>\n",
       "</table>\n",
       "</div>"
      ],
      "text/plain": [
       "          reviewerID        asin  overall categories  \\\n",
       "3938  A1G0DH7UQ4ILS6  0439023483        4      Books   \n",
       "\n",
       "                                            title  \\\n",
       "3938  The Hunger Games (The Hunger Games, Book 1)   \n",
       "\n",
       "                                            description  \\\n",
       "3938  Starred Review.Reviewed byMegan Whalen TurnerI...   \n",
       "\n",
       "                                                related  \n",
       "3938  {'also_bought': ['0439023491', '0439023513', '...  "
      ]
     },
     "execution_count": 15,
     "metadata": {},
     "output_type": "execute_result"
    }
   ],
   "source": [
    "item_idx = trainset._raw2inner_id_items[selected_item]\n",
    "user_idx = trainset.ir[item_idx][10][0]\n",
    "selected_user = trainset.to_raw_uid(user_idx)\n",
    "reviews_sample[reviews_sample['reviewerID'] == selected_user][82:83]"
   ]
  },
  {
   "cell_type": "code",
   "execution_count": 16,
   "id": "2ce7bc62",
   "metadata": {
    "scrolled": false
   },
   "outputs": [
    {
     "data": {
      "text/plain": [
       "Prediction(uid='A1G0DH7UQ4ILS6', iid='0439023483', r_ui=4, est=3.996141694807152, details={'actual_k': 15, 'was_impossible': False})"
      ]
     },
     "execution_count": 16,
     "metadata": {},
     "output_type": "execute_result"
    }
   ],
   "source": [
    "KNNMeans_item.predict(selected_user, selected_item, r_ui=4)"
   ]
  },
  {
   "cell_type": "markdown",
   "id": "2e41d49a",
   "metadata": {},
   "source": [
    "The model predicted a rating of 3.996141694807152 for this item with 15 neighbors. We could round this value and obtain a rating of 4, which is exactly how this user had rated the item.\n",
    "\n",
    "Now we'll predict a rating for a user that hadn't rated this item previously.\n",
    "\n",
    "For this, we'll use a item neighbor from the query item. This is done by inspecting the query item row in the similarity matrix and extracting the indices from the nonzero values (the neighbors indices)."
   ]
  },
  {
   "cell_type": "code",
   "execution_count": 17,
   "id": "d5de0ed1",
   "metadata": {},
   "outputs": [
    {
     "data": {
      "text/plain": [
       "array([  10,   24,   25,   27,   56,  144,  206,  368,  439,  455,  456,\n",
       "        459,  499,  509,  528,  531,  532,  606,  616,  618,  620,  645,\n",
       "        861,  892,  905,  977,  980, 1023, 1046, 1053, 1066, 1212, 1276,\n",
       "       1277, 1278, 1279, 1306, 1444, 1533, 1584, 1847, 1856, 1872, 2717,\n",
       "       2785], dtype=int64)"
      ]
     },
     "execution_count": 17,
     "metadata": {},
     "output_type": "execute_result"
    }
   ],
   "source": [
    "KNNMeans_item.sim[item_idx].nonzero()[0][1:]"
   ]
  },
  {
   "cell_type": "markdown",
   "id": "3a61f050",
   "metadata": {},
   "source": [
    "Then select a user that has rated this neighbor item but not the query item (The Hunger Games book):"
   ]
  },
  {
   "cell_type": "code",
   "execution_count": 18,
   "id": "30627814",
   "metadata": {
    "scrolled": true
   },
   "outputs": [
    {
     "data": {
      "text/html": [
       "<div>\n",
       "<style scoped>\n",
       "    .dataframe tbody tr th:only-of-type {\n",
       "        vertical-align: middle;\n",
       "    }\n",
       "\n",
       "    .dataframe tbody tr th {\n",
       "        vertical-align: top;\n",
       "    }\n",
       "\n",
       "    .dataframe thead th {\n",
       "        text-align: right;\n",
       "    }\n",
       "</style>\n",
       "<table border=\"1\" class=\"dataframe\">\n",
       "  <thead>\n",
       "    <tr style=\"text-align: right;\">\n",
       "      <th></th>\n",
       "      <th>reviewerID</th>\n",
       "      <th>asin</th>\n",
       "      <th>overall</th>\n",
       "      <th>categories</th>\n",
       "      <th>title</th>\n",
       "      <th>description</th>\n",
       "      <th>related</th>\n",
       "    </tr>\n",
       "  </thead>\n",
       "  <tbody>\n",
       "    <tr>\n",
       "      <th>123</th>\n",
       "      <td>AM74PIJBAOXJG</td>\n",
       "      <td>0007442920</td>\n",
       "      <td>5</td>\n",
       "      <td>Books</td>\n",
       "      <td>Insurgent (Divergent)</td>\n",
       "      <td>Praise for DIVERGENT: \"The next big thing.\" (R...</td>\n",
       "      <td>{'also_bought': ['0062287338', '0062024035', '...</td>\n",
       "    </tr>\n",
       "    <tr>\n",
       "      <th>141</th>\n",
       "      <td>AM74PIJBAOXJG</td>\n",
       "      <td>0007444117</td>\n",
       "      <td>5</td>\n",
       "      <td>Books</td>\n",
       "      <td>Allegiant (Divergent, #3)</td>\n",
       "      <td>None</td>\n",
       "      <td>{'also_bought': ['0007536747', '0062024043', '...</td>\n",
       "    </tr>\n",
       "    <tr>\n",
       "      <th>634</th>\n",
       "      <td>AM74PIJBAOXJG</td>\n",
       "      <td>0062008110</td>\n",
       "      <td>5</td>\n",
       "      <td>Books</td>\n",
       "      <td>Wuthering Heights</td>\n",
       "      <td>The main drama in Bronte's novel happens in a ...</td>\n",
       "      <td>{'also_bought': ['0141040386', '0141040378', '...</td>\n",
       "    </tr>\n",
       "    <tr>\n",
       "      <th>655</th>\n",
       "      <td>AM74PIJBAOXJG</td>\n",
       "      <td>0062024035</td>\n",
       "      <td>5</td>\n",
       "      <td>Books</td>\n",
       "      <td>Divergent</td>\n",
       "      <td>A Q&amp;amp;A with Author Veronica RothQ:What advi...</td>\n",
       "      <td>{'also_bought': ['0062024043', '006202406X', '...</td>\n",
       "    </tr>\n",
       "    <tr>\n",
       "      <th>5479</th>\n",
       "      <td>AM74PIJBAOXJG</td>\n",
       "      <td>0743566572</td>\n",
       "      <td>5</td>\n",
       "      <td>Books</td>\n",
       "      <td>City of Bones (Mortal Instruments)</td>\n",
       "      <td>This Buffy-esque YA novel does not translate w...</td>\n",
       "      <td>{'also_bought': ['0743572750', '0743579631', '...</td>\n",
       "    </tr>\n",
       "    <tr>\n",
       "      <th>7903</th>\n",
       "      <td>AM74PIJBAOXJG</td>\n",
       "      <td>1427201412</td>\n",
       "      <td>5</td>\n",
       "      <td>Books</td>\n",
       "      <td>Austenland: A Novel</td>\n",
       "      <td>Starred Review.Katherine Kellgren gives a marv...</td>\n",
       "      <td>{'also_bought': ['B00G7QPXAI', 'B00G7QPZKG', '...</td>\n",
       "    </tr>\n",
       "  </tbody>\n",
       "</table>\n",
       "</div>"
      ],
      "text/plain": [
       "         reviewerID        asin  overall categories  \\\n",
       "123   AM74PIJBAOXJG  0007442920        5      Books   \n",
       "141   AM74PIJBAOXJG  0007444117        5      Books   \n",
       "634   AM74PIJBAOXJG  0062008110        5      Books   \n",
       "655   AM74PIJBAOXJG  0062024035        5      Books   \n",
       "5479  AM74PIJBAOXJG  0743566572        5      Books   \n",
       "7903  AM74PIJBAOXJG  1427201412        5      Books   \n",
       "\n",
       "                                   title  \\\n",
       "123                Insurgent (Divergent)   \n",
       "141            Allegiant (Divergent, #3)   \n",
       "634                    Wuthering Heights   \n",
       "655                            Divergent   \n",
       "5479  City of Bones (Mortal Instruments)   \n",
       "7903                 Austenland: A Novel   \n",
       "\n",
       "                                            description  \\\n",
       "123   Praise for DIVERGENT: \"The next big thing.\" (R...   \n",
       "141                                                None   \n",
       "634   The main drama in Bronte's novel happens in a ...   \n",
       "655   A Q&amp;A with Author Veronica RothQ:What advi...   \n",
       "5479  This Buffy-esque YA novel does not translate w...   \n",
       "7903  Starred Review.Katherine Kellgren gives a marv...   \n",
       "\n",
       "                                                related  \n",
       "123   {'also_bought': ['0062287338', '0062024035', '...  \n",
       "141   {'also_bought': ['0007536747', '0062024043', '...  \n",
       "634   {'also_bought': ['0141040386', '0141040378', '...  \n",
       "655   {'also_bought': ['0062024043', '006202406X', '...  \n",
       "5479  {'also_bought': ['0743572750', '0743579631', '...  \n",
       "7903  {'also_bought': ['B00G7QPXAI', 'B00G7QPZKG', '...  "
      ]
     },
     "execution_count": 18,
     "metadata": {},
     "output_type": "execute_result"
    }
   ],
   "source": [
    "selected_user = reviews_sample[reviews_sample['asin'] == trainset.to_raw_iid(24)].iloc[0]['reviewerID']\n",
    "reviews_sample[reviews_sample['reviewerID'] == selected_user]"
   ]
  },
  {
   "cell_type": "code",
   "execution_count": 19,
   "id": "ded2f659",
   "metadata": {},
   "outputs": [
    {
     "data": {
      "text/plain": [
       "Prediction(uid='AM74PIJBAOXJG', iid='0439023483', r_ui=None, est=5, details={'actual_k': 2, 'was_impossible': False})"
      ]
     },
     "execution_count": 19,
     "metadata": {},
     "output_type": "execute_result"
    }
   ],
   "source": [
    "KNNMeans_item.predict(selected_user, selected_item)"
   ]
  },
  {
   "cell_type": "markdown",
   "id": "36165a77",
   "metadata": {},
   "source": [
    "The model predicted a rating of 5 by using two neighbors. The prediction may be imprecise due to the model relying on few neighbors."
   ]
  },
  {
   "cell_type": "markdown",
   "id": "8856af99",
   "metadata": {},
   "source": [
    "## Using the model to recommend items similar to the selected item\n",
    "\n",
    "To recommend items similar to *The Hunger Games*, we use the *get_neighbors* method from the item-based model. Then, we translate the model internal indices to the metadata's product ID so we can inspect them in the DataFrame:"
   ]
  },
  {
   "cell_type": "code",
   "execution_count": 20,
   "id": "33351234",
   "metadata": {},
   "outputs": [
    {
     "data": {
      "text/plain": [
       "['0439023513',\n",
       " '0439023491',\n",
       " '0575081384',\n",
       " '0002247399',\n",
       " '043902353X',\n",
       " '030788743X',\n",
       " '0345803493',\n",
       " '0743597923',\n",
       " '0007442920',\n",
       " '0143170104']"
      ]
     },
     "execution_count": 20,
     "metadata": {},
     "output_type": "execute_result"
    }
   ],
   "source": [
    "raw_recommendations = KNNMeans_item.get_neighbors(item_idx, k=10)\n",
    "recommended_products = translate_recommendations(raw_recommendations, user_based=False)\n",
    "recommended_products"
   ]
  },
  {
   "cell_type": "code",
   "execution_count": 21,
   "id": "6f635099",
   "metadata": {},
   "outputs": [
    {
     "data": {
      "text/html": [
       "<div>\n",
       "<style scoped>\n",
       "    .dataframe tbody tr th:only-of-type {\n",
       "        vertical-align: middle;\n",
       "    }\n",
       "\n",
       "    .dataframe tbody tr th {\n",
       "        vertical-align: top;\n",
       "    }\n",
       "\n",
       "    .dataframe thead th {\n",
       "        text-align: right;\n",
       "    }\n",
       "</style>\n",
       "<table border=\"1\" class=\"dataframe\">\n",
       "  <thead>\n",
       "    <tr style=\"text-align: right;\">\n",
       "      <th></th>\n",
       "      <th>asin</th>\n",
       "      <th>categories</th>\n",
       "      <th>title</th>\n",
       "      <th>description</th>\n",
       "      <th>related</th>\n",
       "    </tr>\n",
       "  </thead>\n",
       "  <tbody>\n",
       "    <tr>\n",
       "      <th>6998</th>\n",
       "      <td>0439023513</td>\n",
       "      <td>Books</td>\n",
       "      <td>Mockingjay (The Final Book of The Hunger Games)</td>\n",
       "      <td>Product DescriptionAgainst all odds, Katniss E...</td>\n",
       "      <td>{'also_bought': ['0439023491', '0439023483', '...</td>\n",
       "    </tr>\n",
       "    <tr>\n",
       "      <th>6999</th>\n",
       "      <td>0439023491</td>\n",
       "      <td>Books</td>\n",
       "      <td>Catching Fire (The Hunger Games, Book 2)</td>\n",
       "      <td>Starred Review. Gr 7 Up--Every year in Panem, ...</td>\n",
       "      <td>{'also_bought': ['0439023513', '0439023483', '...</td>\n",
       "    </tr>\n",
       "    <tr>\n",
       "      <th>9127</th>\n",
       "      <td>0575081384</td>\n",
       "      <td>Books</td>\n",
       "      <td>The Name of the Wind</td>\n",
       "      <td>NaN</td>\n",
       "      <td>{'also_bought': ['0756407125', '0756407915', '...</td>\n",
       "    </tr>\n",
       "    <tr>\n",
       "      <th>4</th>\n",
       "      <td>0002247399</td>\n",
       "      <td>Books</td>\n",
       "      <td>A Dance with Dragons</td>\n",
       "      <td>NaN</td>\n",
       "      <td>{'also_bought': ['0553801503', '0553106635', '...</td>\n",
       "    </tr>\n",
       "    <tr>\n",
       "      <th>6996</th>\n",
       "      <td>043902353X</td>\n",
       "      <td>Books</td>\n",
       "      <td>Catching Fire (The Hunger Games, Book 2)</td>\n",
       "      <td>NaN</td>\n",
       "      <td>{'also_bought': ['0545663261', '0439023521', '...</td>\n",
       "    </tr>\n",
       "    <tr>\n",
       "      <th>3190</th>\n",
       "      <td>030788743X</td>\n",
       "      <td>Books</td>\n",
       "      <td>Ready Player One</td>\n",
       "      <td>Amazon Best Books of the Month, August 2011:Re...</td>\n",
       "      <td>{'also_bought': ['1476735115', '1938912306', '...</td>\n",
       "    </tr>\n",
       "    <tr>\n",
       "      <th>5093</th>\n",
       "      <td>0345803493</td>\n",
       "      <td>Books</td>\n",
       "      <td>Fifty Shades Darker</td>\n",
       "      <td>THENEW YORK TIMESBESTSELLING FIFTY SHADES Tril...</td>\n",
       "      <td>{'also_bought': ['0345803507', '0345803485', '...</td>\n",
       "    </tr>\n",
       "    <tr>\n",
       "      <th>10969</th>\n",
       "      <td>0743597923</td>\n",
       "      <td>Books</td>\n",
       "      <td>Under The Dome: A Novel</td>\n",
       "      <td>Amazon Exclusive: Guillermo del Toro and Chuck...</td>\n",
       "      <td>{'also_bought': ['1442362537', '144234430X', '...</td>\n",
       "    </tr>\n",
       "    <tr>\n",
       "      <th>67</th>\n",
       "      <td>0007442920</td>\n",
       "      <td>Books</td>\n",
       "      <td>Insurgent (Divergent)</td>\n",
       "      <td>Praise for DIVERGENT: \"The next big thing.\" (R...</td>\n",
       "      <td>{'also_bought': ['0062287338', '0062024035', '...</td>\n",
       "    </tr>\n",
       "    <tr>\n",
       "      <th>2346</th>\n",
       "      <td>0143170104</td>\n",
       "      <td>Books</td>\n",
       "      <td>The Girl Who Played With Fire</td>\n",
       "      <td>NaN</td>\n",
       "      <td>{'also_bought': ['0307742539', '0307949486', '...</td>\n",
       "    </tr>\n",
       "  </tbody>\n",
       "</table>\n",
       "</div>"
      ],
      "text/plain": [
       "             asin categories                                            title  \\\n",
       "6998   0439023513      Books  Mockingjay (The Final Book of The Hunger Games)   \n",
       "6999   0439023491      Books         Catching Fire (The Hunger Games, Book 2)   \n",
       "9127   0575081384      Books                             The Name of the Wind   \n",
       "4      0002247399      Books                             A Dance with Dragons   \n",
       "6996   043902353X      Books         Catching Fire (The Hunger Games, Book 2)   \n",
       "3190   030788743X      Books                                 Ready Player One   \n",
       "5093   0345803493      Books                              Fifty Shades Darker   \n",
       "10969  0743597923      Books                          Under The Dome: A Novel   \n",
       "67     0007442920      Books                            Insurgent (Divergent)   \n",
       "2346   0143170104      Books                    The Girl Who Played With Fire   \n",
       "\n",
       "                                             description  \\\n",
       "6998   Product DescriptionAgainst all odds, Katniss E...   \n",
       "6999   Starred Review. Gr 7 Up--Every year in Panem, ...   \n",
       "9127                                                 NaN   \n",
       "4                                                    NaN   \n",
       "6996                                                 NaN   \n",
       "3190   Amazon Best Books of the Month, August 2011:Re...   \n",
       "5093   THENEW YORK TIMESBESTSELLING FIFTY SHADES Tril...   \n",
       "10969  Amazon Exclusive: Guillermo del Toro and Chuck...   \n",
       "67     Praise for DIVERGENT: \"The next big thing.\" (R...   \n",
       "2346                                                 NaN   \n",
       "\n",
       "                                                 related  \n",
       "6998   {'also_bought': ['0439023491', '0439023483', '...  \n",
       "6999   {'also_bought': ['0439023513', '0439023483', '...  \n",
       "9127   {'also_bought': ['0756407125', '0756407915', '...  \n",
       "4      {'also_bought': ['0553801503', '0553106635', '...  \n",
       "6996   {'also_bought': ['0545663261', '0439023521', '...  \n",
       "3190   {'also_bought': ['1476735115', '1938912306', '...  \n",
       "5093   {'also_bought': ['0345803507', '0345803485', '...  \n",
       "10969  {'also_bought': ['1442362537', '144234430X', '...  \n",
       "67     {'also_bought': ['0062287338', '0062024035', '...  \n",
       "2346   {'also_bought': ['0307742539', '0307949486', '...  "
      ]
     },
     "execution_count": 21,
     "metadata": {},
     "output_type": "execute_result"
    }
   ],
   "source": [
    "top_recommendations = get_recommendations_metadata(meta, 'asin', recommended_products)\n",
    "top_recommendations"
   ]
  },
  {
   "cell_type": "markdown",
   "id": "9a31282f",
   "metadata": {},
   "source": [
    "Notice how some of the recommendations above include sequels to the first book. \n",
    "\n",
    "From the \"also bought\" of recommended items, you are able to find the queried item, which may indicate that these recommendations makes sense."
   ]
  },
  {
   "cell_type": "code",
   "execution_count": 22,
   "id": "043bd5c9",
   "metadata": {},
   "outputs": [
    {
     "data": {
      "text/html": [
       "<div>\n",
       "<style scoped>\n",
       "    .dataframe tbody tr th:only-of-type {\n",
       "        vertical-align: middle;\n",
       "    }\n",
       "\n",
       "    .dataframe tbody tr th {\n",
       "        vertical-align: top;\n",
       "    }\n",
       "\n",
       "    .dataframe thead th {\n",
       "        text-align: right;\n",
       "    }\n",
       "</style>\n",
       "<table border=\"1\" class=\"dataframe\">\n",
       "  <thead>\n",
       "    <tr style=\"text-align: right;\">\n",
       "      <th></th>\n",
       "      <th>asin</th>\n",
       "      <th>categories</th>\n",
       "      <th>title</th>\n",
       "      <th>description</th>\n",
       "      <th>related</th>\n",
       "    </tr>\n",
       "  </thead>\n",
       "  <tbody>\n",
       "    <tr>\n",
       "      <th>6997</th>\n",
       "      <td>0439023483</td>\n",
       "      <td>Books</td>\n",
       "      <td>The Hunger Games (The Hunger Games, Book 1)</td>\n",
       "      <td>Starred Review.Reviewed byMegan Whalen TurnerI...</td>\n",
       "      <td>{'also_bought': ['0439023491', '0439023513', '...</td>\n",
       "    </tr>\n",
       "  </tbody>\n",
       "</table>\n",
       "</div>"
      ],
      "text/plain": [
       "            asin categories                                        title  \\\n",
       "6997  0439023483      Books  The Hunger Games (The Hunger Games, Book 1)   \n",
       "\n",
       "                                            description  \\\n",
       "6997  Starred Review.Reviewed byMegan Whalen TurnerI...   \n",
       "\n",
       "                                                related  \n",
       "6997  {'also_bought': ['0439023491', '0439023513', '...  "
      ]
     },
     "execution_count": 22,
     "metadata": {},
     "output_type": "execute_result"
    }
   ],
   "source": [
    "also_bought = get_common_also_bought(top_recommendations['related'], [selected_item])\n",
    "meta[meta['asin'].isin(also_bought)]"
   ]
  },
  {
   "cell_type": "markdown",
   "id": "ec5d0a30",
   "metadata": {},
   "source": [
    "# User-based recommendations\n",
    "\n",
    "Now we'll do the same thing, but using a user-based model."
   ]
  },
  {
   "cell_type": "code",
   "execution_count": 23,
   "id": "445cbcc5",
   "metadata": {
    "scrolled": true
   },
   "outputs": [
    {
     "name": "stdout",
     "output_type": "stream",
     "text": [
      "Estimating biases using als...\n",
      "Computing the pearson_baseline similarity matrix...\n",
      "Done computing similarity matrix.\n"
     ]
    }
   ],
   "source": [
    "try:\n",
    "    KNNMeans_user = pickle.load(open('model/KNNMeans_user.models', 'rb')) \n",
    "except FileNotFoundError:\n",
    "    KNNMeans_user = KNNWithMeans(sim_options = {'name': 'pearson_baseline', 'user_based': True })\n",
    "    KNNMeans_user.fit(trainset)  \n",
    "\n",
    "if SAVE_USER_MODEL:\n",
    "    pickle.dump(KNNMeans_user, open('model/KNNMeans_user.model', 'wb'))"
   ]
  },
  {
   "cell_type": "markdown",
   "id": "d15ca761",
   "metadata": {},
   "source": [
    "Next, we'll select a user thas has made few reviews: A3T2NQHE6CZX1B."
   ]
  },
  {
   "cell_type": "code",
   "execution_count": 24,
   "id": "18460ccb",
   "metadata": {},
   "outputs": [
    {
     "data": {
      "text/html": [
       "<div>\n",
       "<style scoped>\n",
       "    .dataframe tbody tr th:only-of-type {\n",
       "        vertical-align: middle;\n",
       "    }\n",
       "\n",
       "    .dataframe tbody tr th {\n",
       "        vertical-align: top;\n",
       "    }\n",
       "\n",
       "    .dataframe thead th {\n",
       "        text-align: right;\n",
       "    }\n",
       "</style>\n",
       "<table border=\"1\" class=\"dataframe\">\n",
       "  <thead>\n",
       "    <tr style=\"text-align: right;\">\n",
       "      <th></th>\n",
       "      <th>reviewerID</th>\n",
       "      <th>asin</th>\n",
       "      <th>overall</th>\n",
       "      <th>categories</th>\n",
       "      <th>title</th>\n",
       "      <th>description</th>\n",
       "      <th>related</th>\n",
       "    </tr>\n",
       "  </thead>\n",
       "  <tbody>\n",
       "    <tr>\n",
       "      <th>19530</th>\n",
       "      <td>A3T2NQHE6CZX1B</td>\n",
       "      <td>B0012S4APK</td>\n",
       "      <td>3</td>\n",
       "      <td>Electronics, Accessories &amp; Supplies, Audio &amp; V...</td>\n",
       "      <td>Cheetah Mounts APTMM2B Flush Tilt (1.3&amp;quot; P...</td>\n",
       "      <td>FITS 32-65\" TVSThis mount fits essentially all...</td>\n",
       "      <td>{'also_bought': ['B000IKK0OI', 'B00GTE0VJ6', '...</td>\n",
       "    </tr>\n",
       "    <tr>\n",
       "      <th>31282</th>\n",
       "      <td>A3T2NQHE6CZX1B</td>\n",
       "      <td>B0096YOQRY</td>\n",
       "      <td>1</td>\n",
       "      <td>Electronics, Television &amp; Video, Televisions, ...</td>\n",
       "      <td>VIZIO E320i-A0 32-inch 720p 60Hz LED Smart HDT...</td>\n",
       "      <td>None</td>\n",
       "      <td>{'also_bought': ['B00CUTJ7EE', 'B0043BX96Y', '...</td>\n",
       "    </tr>\n",
       "  </tbody>\n",
       "</table>\n",
       "</div>"
      ],
      "text/plain": [
       "           reviewerID        asin  overall  \\\n",
       "19530  A3T2NQHE6CZX1B  B0012S4APK        3   \n",
       "31282  A3T2NQHE6CZX1B  B0096YOQRY        1   \n",
       "\n",
       "                                              categories  \\\n",
       "19530  Electronics, Accessories & Supplies, Audio & V...   \n",
       "31282  Electronics, Television & Video, Televisions, ...   \n",
       "\n",
       "                                                   title  \\\n",
       "19530  Cheetah Mounts APTMM2B Flush Tilt (1.3&quot; P...   \n",
       "31282  VIZIO E320i-A0 32-inch 720p 60Hz LED Smart HDT...   \n",
       "\n",
       "                                             description  \\\n",
       "19530  FITS 32-65\" TVSThis mount fits essentially all...   \n",
       "31282                                               None   \n",
       "\n",
       "                                                 related  \n",
       "19530  {'also_bought': ['B000IKK0OI', 'B00GTE0VJ6', '...  \n",
       "31282  {'also_bought': ['B00CUTJ7EE', 'B0043BX96Y', '...  "
      ]
     },
     "execution_count": 24,
     "metadata": {},
     "output_type": "execute_result"
    }
   ],
   "source": [
    "selected_user = 'A3T2NQHE6CZX1B'\n",
    "reviews_sample[reviews_sample['reviewerID'] == selected_user]"
   ]
  },
  {
   "cell_type": "markdown",
   "id": "bc9b0249",
   "metadata": {},
   "source": [
    "Since the user has given few reviews, it doesn't have any common neighbors for the model to make recommendations. This is another example of how the cold-start problem affects the prediction. "
   ]
  },
  {
   "cell_type": "code",
   "execution_count": 25,
   "id": "dad3f145",
   "metadata": {},
   "outputs": [
    {
     "data": {
      "text/plain": [
       "Prediction(uid='A3T2NQHE6CZX1B', iid='0439023483', r_ui=None, est=2.0, details={'actual_k': 0, 'was_impossible': False})"
      ]
     },
     "execution_count": 25,
     "metadata": {},
     "output_type": "execute_result"
    }
   ],
   "source": [
    "KNNMeans_user.predict(selected_user, selected_item)"
   ]
  },
  {
   "cell_type": "markdown",
   "id": "6684ca64",
   "metadata": {},
   "source": [
    "Since there are no neighbors, the KNNMeans model returns the mean ratings of the user."
   ]
  },
  {
   "cell_type": "code",
   "execution_count": 26,
   "id": "1f1a7c85",
   "metadata": {},
   "outputs": [
    {
     "data": {
      "text/plain": [
       "True"
      ]
     },
     "execution_count": 26,
     "metadata": {},
     "output_type": "execute_result"
    }
   ],
   "source": [
    "reviews_sample[reviews_sample['reviewerID'] == selected_user]['overall'].mean() == KNNMeans_user.predict(selected_user, selected_item)[3]"
   ]
  },
  {
   "cell_type": "markdown",
   "id": "fb2fe43e",
   "metadata": {},
   "source": [
    "## Comparing the ratings between the item-based and user-based models\n",
    "\n",
    "We can apply the user-based model to the same user as before and see how the model predicts the rating of *The Hunger Games*, which has been given a rating of 4."
   ]
  },
  {
   "cell_type": "code",
   "execution_count": 27,
   "id": "6556ca77",
   "metadata": {},
   "outputs": [
    {
     "data": {
      "text/html": [
       "<div>\n",
       "<style scoped>\n",
       "    .dataframe tbody tr th:only-of-type {\n",
       "        vertical-align: middle;\n",
       "    }\n",
       "\n",
       "    .dataframe tbody tr th {\n",
       "        vertical-align: top;\n",
       "    }\n",
       "\n",
       "    .dataframe thead th {\n",
       "        text-align: right;\n",
       "    }\n",
       "</style>\n",
       "<table border=\"1\" class=\"dataframe\">\n",
       "  <thead>\n",
       "    <tr style=\"text-align: right;\">\n",
       "      <th></th>\n",
       "      <th>reviewerID</th>\n",
       "      <th>asin</th>\n",
       "      <th>overall</th>\n",
       "      <th>categories</th>\n",
       "      <th>title</th>\n",
       "      <th>description</th>\n",
       "      <th>related</th>\n",
       "    </tr>\n",
       "  </thead>\n",
       "  <tbody>\n",
       "    <tr>\n",
       "      <th>3938</th>\n",
       "      <td>A1G0DH7UQ4ILS6</td>\n",
       "      <td>0439023483</td>\n",
       "      <td>4</td>\n",
       "      <td>Books</td>\n",
       "      <td>The Hunger Games (The Hunger Games, Book 1)</td>\n",
       "      <td>Starred Review.Reviewed byMegan Whalen TurnerI...</td>\n",
       "      <td>{'also_bought': ['0439023491', '0439023513', '...</td>\n",
       "    </tr>\n",
       "  </tbody>\n",
       "</table>\n",
       "</div>"
      ],
      "text/plain": [
       "          reviewerID        asin  overall categories  \\\n",
       "3938  A1G0DH7UQ4ILS6  0439023483        4      Books   \n",
       "\n",
       "                                            title  \\\n",
       "3938  The Hunger Games (The Hunger Games, Book 1)   \n",
       "\n",
       "                                            description  \\\n",
       "3938  Starred Review.Reviewed byMegan Whalen TurnerI...   \n",
       "\n",
       "                                                related  \n",
       "3938  {'also_bought': ['0439023491', '0439023513', '...  "
      ]
     },
     "execution_count": 27,
     "metadata": {},
     "output_type": "execute_result"
    }
   ],
   "source": [
    "selected_user = trainset.to_raw_uid(user_idx)\n",
    "reviews_sample[reviews_sample['reviewerID'] == selected_user][82:83]"
   ]
  },
  {
   "cell_type": "code",
   "execution_count": 28,
   "id": "4b57fe69",
   "metadata": {},
   "outputs": [
    {
     "data": {
      "text/plain": [
       "Prediction(uid='A1G0DH7UQ4ILS6', iid='0439023483', r_ui=4, est=4.019804082711727, details={'actual_k': 5, 'was_impossible': False})"
      ]
     },
     "execution_count": 28,
     "metadata": {},
     "output_type": "execute_result"
    }
   ],
   "source": [
    "KNNMeans_user.predict(selected_user, selected_item, r_ui=4)"
   ]
  },
  {
   "cell_type": "markdown",
   "id": "de026225",
   "metadata": {},
   "source": [
    "We see that the item-based model has given a closer estimate to the real rating compared to the user-based model (3.996141694807152 vs 4.019804082711727), but both were very close to the real rating given by this user."
   ]
  },
  {
   "cell_type": "markdown",
   "id": "c1633027",
   "metadata": {},
   "source": [
    "## Using the model to recommend users similar to a given user\n",
    "\n",
    "In some situations, it might be useful to recommend similar users to a user at hand. This is the case of recommender engines used in the context of social networks, for example.\n",
    "\n",
    "In this case, we'll select a user with more than 150 ratings and try to recommend a similar user to it."
   ]
  },
  {
   "cell_type": "code",
   "execution_count": 29,
   "id": "93afaf9a",
   "metadata": {},
   "outputs": [
    {
     "data": {
      "text/plain": [
       "(156, 7)"
      ]
     },
     "execution_count": 29,
     "metadata": {},
     "output_type": "execute_result"
    }
   ],
   "source": [
    "selected_user = users_count[users_count > 150].index[0]\n",
    "reviews_very_active_user = reviews_sample[reviews_sample['reviewerID'] == selected_user]\n",
    "reviews_very_active_user.shape"
   ]
  },
  {
   "cell_type": "code",
   "execution_count": 30,
   "id": "c6aafcb6",
   "metadata": {
    "scrolled": false
   },
   "outputs": [
    {
     "data": {
      "text/html": [
       "<div>\n",
       "<style scoped>\n",
       "    .dataframe tbody tr th:only-of-type {\n",
       "        vertical-align: middle;\n",
       "    }\n",
       "\n",
       "    .dataframe tbody tr th {\n",
       "        vertical-align: top;\n",
       "    }\n",
       "\n",
       "    .dataframe thead th {\n",
       "        text-align: right;\n",
       "    }\n",
       "</style>\n",
       "<table border=\"1\" class=\"dataframe\">\n",
       "  <thead>\n",
       "    <tr style=\"text-align: right;\">\n",
       "      <th></th>\n",
       "      <th>reviewerID</th>\n",
       "      <th>asin</th>\n",
       "      <th>overall</th>\n",
       "      <th>categories</th>\n",
       "      <th>title</th>\n",
       "      <th>description</th>\n",
       "      <th>related</th>\n",
       "    </tr>\n",
       "  </thead>\n",
       "  <tbody>\n",
       "    <tr>\n",
       "      <th>717</th>\n",
       "      <td>A2Y3ZGVRA3S23L</td>\n",
       "      <td>0062076108</td>\n",
       "      <td>5</td>\n",
       "      <td>Books</td>\n",
       "      <td>Twice Tempted (Night Prince)</td>\n",
       "      <td>Readers are in for a story that is emotionally...</td>\n",
       "      <td>{'also_bought': ['006178320X', '0061783161', '...</td>\n",
       "    </tr>\n",
       "    <tr>\n",
       "      <th>721</th>\n",
       "      <td>A2Y3ZGVRA3S23L</td>\n",
       "      <td>0062076116</td>\n",
       "      <td>5</td>\n",
       "      <td>Books</td>\n",
       "      <td>Up from the Grave (Night Huntress)</td>\n",
       "      <td>\"Leavened with strong emotion and dark humor, ...</td>\n",
       "      <td>{'also_bought': ['0061783196', '0061783188', '...</td>\n",
       "    </tr>\n",
       "    <tr>\n",
       "      <th>817</th>\n",
       "      <td>A2Y3ZGVRA3S23L</td>\n",
       "      <td>0062267159</td>\n",
       "      <td>5</td>\n",
       "      <td>Books</td>\n",
       "      <td>Clash (Crash)</td>\n",
       "      <td>On again, off again. Together. Apart. The only...</td>\n",
       "      <td>{'also_bought': ['0062267175', '0062267140', '...</td>\n",
       "    </tr>\n",
       "    <tr>\n",
       "      <th>819</th>\n",
       "      <td>A2Y3ZGVRA3S23L</td>\n",
       "      <td>0062267175</td>\n",
       "      <td>5</td>\n",
       "      <td>Books</td>\n",
       "      <td>Crush</td>\n",
       "      <td>Football glory. A giant diamond. A wandering e...</td>\n",
       "      <td>{'also_bought': ['0062267159', '0062267140', '...</td>\n",
       "    </tr>\n",
       "    <tr>\n",
       "      <th>864</th>\n",
       "      <td>A2Y3ZGVRA3S23L</td>\n",
       "      <td>0062294776</td>\n",
       "      <td>4</td>\n",
       "      <td>Books</td>\n",
       "      <td>Wait for You</td>\n",
       "      <td>A young woman must come to terms with the secr...</td>\n",
       "      <td>{'also_bought': ['0062304828', '0062294784', '...</td>\n",
       "    </tr>\n",
       "  </tbody>\n",
       "</table>\n",
       "</div>"
      ],
      "text/plain": [
       "         reviewerID        asin  overall categories  \\\n",
       "717  A2Y3ZGVRA3S23L  0062076108        5      Books   \n",
       "721  A2Y3ZGVRA3S23L  0062076116        5      Books   \n",
       "817  A2Y3ZGVRA3S23L  0062267159        5      Books   \n",
       "819  A2Y3ZGVRA3S23L  0062267175        5      Books   \n",
       "864  A2Y3ZGVRA3S23L  0062294776        4      Books   \n",
       "\n",
       "                                  title  \\\n",
       "717        Twice Tempted (Night Prince)   \n",
       "721  Up from the Grave (Night Huntress)   \n",
       "817                       Clash (Crash)   \n",
       "819                               Crush   \n",
       "864                        Wait for You   \n",
       "\n",
       "                                           description  \\\n",
       "717  Readers are in for a story that is emotionally...   \n",
       "721  \"Leavened with strong emotion and dark humor, ...   \n",
       "817  On again, off again. Together. Apart. The only...   \n",
       "819  Football glory. A giant diamond. A wandering e...   \n",
       "864  A young woman must come to terms with the secr...   \n",
       "\n",
       "                                               related  \n",
       "717  {'also_bought': ['006178320X', '0061783161', '...  \n",
       "721  {'also_bought': ['0061783196', '0061783188', '...  \n",
       "817  {'also_bought': ['0062267175', '0062267140', '...  \n",
       "819  {'also_bought': ['0062267159', '0062267140', '...  \n",
       "864  {'also_bought': ['0062304828', '0062294784', '...  "
      ]
     },
     "execution_count": 30,
     "metadata": {},
     "output_type": "execute_result"
    }
   ],
   "source": [
    "reviews_very_active_user.head()"
   ]
  },
  {
   "cell_type": "markdown",
   "id": "95bc6da6",
   "metadata": {},
   "source": [
    "Recommending the top 3 most similar users:"
   ]
  },
  {
   "cell_type": "code",
   "execution_count": 31,
   "id": "fa7b1479",
   "metadata": {},
   "outputs": [
    {
     "data": {
      "text/plain": [
       "['A1SNDEL69MX6SX', 'AUZ96COITGKE3', 'A1119PAA9HZJ27']"
      ]
     },
     "execution_count": 31,
     "metadata": {},
     "output_type": "execute_result"
    }
   ],
   "source": [
    "user_idx = trainset._raw2inner_id_users[selected_user]\n",
    "raw_top_recommendations = KNNMeans_user.get_neighbors(user_idx, k=3)\n",
    "recommended_users = translate_recommendations(raw_top_recommendations, user_based=True)\n",
    "recommended_users"
   ]
  },
  {
   "cell_type": "markdown",
   "id": "64ca977c",
   "metadata": {},
   "source": [
    "Let's check the products the most similar user has bought in common with the queried user. They're all books:"
   ]
  },
  {
   "cell_type": "code",
   "execution_count": 32,
   "id": "fb45d0ef",
   "metadata": {},
   "outputs": [
    {
     "data": {
      "text/html": [
       "<div>\n",
       "<style scoped>\n",
       "    .dataframe tbody tr th:only-of-type {\n",
       "        vertical-align: middle;\n",
       "    }\n",
       "\n",
       "    .dataframe tbody tr th {\n",
       "        vertical-align: top;\n",
       "    }\n",
       "\n",
       "    .dataframe thead th {\n",
       "        text-align: right;\n",
       "    }\n",
       "</style>\n",
       "<table border=\"1\" class=\"dataframe\">\n",
       "  <thead>\n",
       "    <tr style=\"text-align: right;\">\n",
       "      <th></th>\n",
       "      <th>reviewerID</th>\n",
       "      <th>asin</th>\n",
       "      <th>overall</th>\n",
       "      <th>categories</th>\n",
       "      <th>title</th>\n",
       "      <th>description</th>\n",
       "      <th>related</th>\n",
       "    </tr>\n",
       "  </thead>\n",
       "  <tbody>\n",
       "    <tr>\n",
       "      <th>3854</th>\n",
       "      <td>A2Y3ZGVRA3S23L</td>\n",
       "      <td>042526596X</td>\n",
       "      <td>5</td>\n",
       "      <td>Books</td>\n",
       "      <td>Gabriel's Inferno</td>\n",
       "      <td>None</td>\n",
       "      <td>{'also_bought': ['140591243X', '1405912456', '...</td>\n",
       "    </tr>\n",
       "    <tr>\n",
       "      <th>3861</th>\n",
       "      <td>A2Y3ZGVRA3S23L</td>\n",
       "      <td>0425266516</td>\n",
       "      <td>5</td>\n",
       "      <td>Books</td>\n",
       "      <td>Gabriel's Redemption (Gabriel's Inferno Trilogy)</td>\n",
       "      <td>None</td>\n",
       "      <td>{'also_bought': ['0425265951', '042526596X', '...</td>\n",
       "    </tr>\n",
       "    <tr>\n",
       "      <th>7258</th>\n",
       "      <td>A2Y3ZGVRA3S23L</td>\n",
       "      <td>0988715805</td>\n",
       "      <td>5</td>\n",
       "      <td>Books</td>\n",
       "      <td>Allure: A Spiral of Bliss Novel (Book Two)</td>\n",
       "      <td>I LOVED THIS BOOK! Just beautiful! Dean and Li...</td>\n",
       "      <td>{'also_bought': ['0988715880', '098871583X', '...</td>\n",
       "    </tr>\n",
       "    <tr>\n",
       "      <th>7260</th>\n",
       "      <td>A2Y3ZGVRA3S23L</td>\n",
       "      <td>098871583X</td>\n",
       "      <td>5</td>\n",
       "      <td>Books</td>\n",
       "      <td>Arouse: A Spiral of Bliss Novel (Book One) (Vo...</td>\n",
       "      <td>None</td>\n",
       "      <td>{'also_bought': ['0988715880', '0988715805', '...</td>\n",
       "    </tr>\n",
       "    <tr>\n",
       "      <th>7337</th>\n",
       "      <td>A2Y3ZGVRA3S23L</td>\n",
       "      <td>0989450252</td>\n",
       "      <td>5</td>\n",
       "      <td>Books</td>\n",
       "      <td>Crashed (The Driven Trilogy)</td>\n",
       "      <td>K. Bromberg is that reserved woman sitting in ...</td>\n",
       "      <td>{'also_bought': ['0989450236', '098945021X', '...</td>\n",
       "    </tr>\n",
       "    <tr>\n",
       "      <th>10074</th>\n",
       "      <td>A2Y3ZGVRA3S23L</td>\n",
       "      <td>1495912183</td>\n",
       "      <td>5</td>\n",
       "      <td>Books</td>\n",
       "      <td>Moore than Forever (Needing Moore Series) (Vol...</td>\n",
       "      <td>None</td>\n",
       "      <td>{'also_bought': ['1492769339', '0615796982', '...</td>\n",
       "    </tr>\n",
       "    <tr>\n",
       "      <th>11066</th>\n",
       "      <td>A2Y3ZGVRA3S23L</td>\n",
       "      <td>1939927196</td>\n",
       "      <td>5</td>\n",
       "      <td>Books</td>\n",
       "      <td>A Love Like This</td>\n",
       "      <td>None</td>\n",
       "      <td>{'also_bought': ['1938701062', '1937698971', '...</td>\n",
       "    </tr>\n",
       "  </tbody>\n",
       "</table>\n",
       "</div>"
      ],
      "text/plain": [
       "           reviewerID        asin  overall categories  \\\n",
       "3854   A2Y3ZGVRA3S23L  042526596X        5      Books   \n",
       "3861   A2Y3ZGVRA3S23L  0425266516        5      Books   \n",
       "7258   A2Y3ZGVRA3S23L  0988715805        5      Books   \n",
       "7260   A2Y3ZGVRA3S23L  098871583X        5      Books   \n",
       "7337   A2Y3ZGVRA3S23L  0989450252        5      Books   \n",
       "10074  A2Y3ZGVRA3S23L  1495912183        5      Books   \n",
       "11066  A2Y3ZGVRA3S23L  1939927196        5      Books   \n",
       "\n",
       "                                                   title  \\\n",
       "3854                                   Gabriel's Inferno   \n",
       "3861    Gabriel's Redemption (Gabriel's Inferno Trilogy)   \n",
       "7258          Allure: A Spiral of Bliss Novel (Book Two)   \n",
       "7260   Arouse: A Spiral of Bliss Novel (Book One) (Vo...   \n",
       "7337                        Crashed (The Driven Trilogy)   \n",
       "10074  Moore than Forever (Needing Moore Series) (Vol...   \n",
       "11066                                   A Love Like This   \n",
       "\n",
       "                                             description  \\\n",
       "3854                                                None   \n",
       "3861                                                None   \n",
       "7258   I LOVED THIS BOOK! Just beautiful! Dean and Li...   \n",
       "7260                                                None   \n",
       "7337   K. Bromberg is that reserved woman sitting in ...   \n",
       "10074                                               None   \n",
       "11066                                               None   \n",
       "\n",
       "                                                 related  \n",
       "3854   {'also_bought': ['140591243X', '1405912456', '...  \n",
       "3861   {'also_bought': ['0425265951', '042526596X', '...  \n",
       "7258   {'also_bought': ['0988715880', '098871583X', '...  \n",
       "7260   {'also_bought': ['0988715880', '0988715805', '...  \n",
       "7337   {'also_bought': ['0989450236', '098945021X', '...  \n",
       "10074  {'also_bought': ['1492769339', '0615796982', '...  \n",
       "11066  {'also_bought': ['1938701062', '1937698971', '...  "
      ]
     },
     "execution_count": 32,
     "metadata": {},
     "output_type": "execute_result"
    }
   ],
   "source": [
    "recommended_user_reviews = reviews_sample[reviews_sample['reviewerID'] == recommended_users[0]]\n",
    "reviews_very_active_user[reviews_very_active_user['asin'].isin(recommended_user_reviews['asin'])]"
   ]
  },
  {
   "cell_type": "markdown",
   "id": "0c07f746",
   "metadata": {},
   "source": [
    "Also, 60 products the user already rated appear on the *also bought* attribute of the recommended user's product list:"
   ]
  },
  {
   "cell_type": "code",
   "execution_count": 33,
   "id": "965c6a38",
   "metadata": {},
   "outputs": [
    {
     "data": {
      "text/plain": [
       "60"
      ]
     },
     "execution_count": 33,
     "metadata": {},
     "output_type": "execute_result"
    }
   ],
   "source": [
    "also_bought = get_common_also_bought(recommended_user_reviews['related'], list(reviews_very_active_user['asin']))\n",
    "meta[meta['asin'].isin(also_bought)]['asin'].count()"
   ]
  },
  {
   "cell_type": "markdown",
   "id": "c7619716",
   "metadata": {},
   "source": [
    "# Conclusion \n",
    "\n",
    "In this notebook, we presented an implementation of item-based and user-based Collaborative Filtering models and applied it to predict ratings and recommend top similar users/items using a real-world dataset.\n",
    "\n",
    "Check out the other Notebooks in the repository to learn more about Recommender Systems."
   ]
  }
 ],
 "metadata": {
  "kernelspec": {
   "display_name": "Python 3 (ipykernel)",
   "language": "python",
   "name": "python3"
  },
  "language_info": {
   "codemirror_mode": {
    "name": "ipython",
    "version": 3
   },
   "file_extension": ".py",
   "mimetype": "text/x-python",
   "name": "python",
   "nbconvert_exporter": "python",
   "pygments_lexer": "ipython3",
   "version": "3.9.13"
  }
 },
 "nbformat": 4,
 "nbformat_minor": 5
}
