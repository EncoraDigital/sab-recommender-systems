{
 "cells": [
  {
   "cell_type": "markdown",
   "id": "fbba1d9e",
   "metadata": {},
   "source": [
    "# Recommender Systems: Data Preprocessing"
   ]
  },
  {
   "cell_type": "markdown",
   "id": "0748b4ea",
   "metadata": {},
   "source": [
    "This notebook is a supplementary material for a series of blog posts on Recommender Systems at [Encora's Insights](https://www.encora.com/insights/all).\n",
    "\n",
    "This notebook performs a series of essential transformations on the dataset used in this repository, making the execution of the other notebooks possible."
   ]
  },
  {
   "cell_type": "markdown",
   "id": "c01dc8b4",
   "metadata": {},
   "source": [
    "# Download the data\n",
    "\n",
    "For this demonstration, we use the Amazon 2014 Product Review data. You can download it in [here](http://jmcauley.ucsd.edu/data/amazon/links.html).\n",
    "\n",
    "There is a more recent version of this dataset. However, you have to ask permissions to download the larger files.\n",
    "\n",
    "As stated by Amazon\n",
    "\n",
    ">This dataset includes reviews (ratings, text, helpfulness votes), product metadata (descriptions, category information, price, brand, and image features), and links (also viewed/also bought graphs).\n",
    "\n",
    "More specifically, we will use the [5-core (9.9gb)](http://snap.stanford.edu/data/amazon/productGraph/kcore_5.json.gz) file and the [metadata (3.1gb)](http://snap.stanford.edu/data/amazon/productGraph/metadata.json.gz) file.\n",
    "\n",
    "The 5-core dataset is interesting because it guarantees that each user and item have at least 5 reviews. The metadata file gives descriptions about the products, which will be specially useful when building a Content Based Recommender System based on product metadata.\n",
    "\n",
    "In this notebook, we will reduce the dataset size so the code can be easily run on systems with limited memory. Despite this reduction, the dataset will need to be further subsampled in the Memory Based Collaborative Filtering notebook to accommodate the creation of a user-item matrix in memory.\n",
    "\n",
    "\n",
    "# Import the libraries"
   ]
  },
  {
   "cell_type": "code",
   "execution_count": 1,
   "id": "b8b253c5",
   "metadata": {},
   "outputs": [],
   "source": [
    "import pandas as pd\n",
    "import numpy as np\n",
    "from tqdm.notebook import tqdm\n",
    "import math\n",
    "import ast\n",
    "import os"
   ]
  },
  {
   "cell_type": "markdown",
   "id": "e214f17c",
   "metadata": {},
   "source": [
    "# Configurable Notebook Variables\n",
    "\n",
    "The variables below configure the data processing and sampling performed in this Notebook."
   ]
  },
  {
   "cell_type": "code",
   "execution_count": 2,
   "id": "d6bb4d90",
   "metadata": {},
   "outputs": [],
   "source": [
    "CHUNK_SIZE = 200000 # chunk size for processing the original kcore_5 file \n",
    "USER_SAMPLES = 10000 # number of users to use in the sample. "
   ]
  },
  {
   "cell_type": "markdown",
   "id": "d1659fed",
   "metadata": {},
   "source": [
    "# Preprocessing the data\n",
    "\n",
    "## Reducing the file size of the reviews dataset\n",
    "\n",
    "Since most of the information present in the 5-core file is not really needed for our purpose of product recommendation, we will rewrite the file to a more compact version that we can work more easily in memory."
   ]
  },
  {
   "cell_type": "code",
   "execution_count": 3,
   "id": "fa4ffd38",
   "metadata": {},
   "outputs": [],
   "source": [
    "# setting the seed for reproducibility purposes\n",
    "np.random.seed(47)"
   ]
  },
  {
   "cell_type": "code",
   "execution_count": 4,
   "id": "7289ed30",
   "metadata": {},
   "outputs": [],
   "source": [
    "if not os.path.exists('dataset/kcore_5_compact.csv'):\n",
    "    nrows_og_file = 41135700\n",
    "    nchunks = math.ceil(nrows_og_file / CHUNK_SIZE)\n",
    "\n",
    "    with pd.read_json('dataset/kcore_5.json', lines=True, chunksize=CHUNK_SIZE) as reviews_chunk:\n",
    "        for chunk in tqdm(reviews_chunk, total=nchunks):\n",
    "            chunk.drop(columns=['reviewerName', 'helpful', 'reviewText', 'summary', 'unixReviewTime','reviewTime'], inplace=True)\n",
    "            chunk.to_csv('dataset/kcore_5_compact.csv', mode='a', header=False, index=False, quotechar='\"')"
   ]
  },
  {
   "cell_type": "markdown",
   "id": "7cbcf697",
   "metadata": {},
   "source": [
    "The compact version of the dataset is comprised of the ID of the reviewer, ID of the product and the rating for the product."
   ]
  },
  {
   "cell_type": "code",
   "execution_count": 5,
   "id": "b8ef0594",
   "metadata": {},
   "outputs": [
    {
     "data": {
      "text/html": [
       "<div>\n",
       "<style scoped>\n",
       "    .dataframe tbody tr th:only-of-type {\n",
       "        vertical-align: middle;\n",
       "    }\n",
       "\n",
       "    .dataframe tbody tr th {\n",
       "        vertical-align: top;\n",
       "    }\n",
       "\n",
       "    .dataframe thead th {\n",
       "        text-align: right;\n",
       "    }\n",
       "</style>\n",
       "<table border=\"1\" class=\"dataframe\">\n",
       "  <thead>\n",
       "    <tr style=\"text-align: right;\">\n",
       "      <th></th>\n",
       "      <th>reviewerID</th>\n",
       "      <th>asin</th>\n",
       "      <th>overall</th>\n",
       "    </tr>\n",
       "  </thead>\n",
       "  <tbody>\n",
       "    <tr>\n",
       "      <th>0</th>\n",
       "      <td>ACNGUPJ3A3TM9</td>\n",
       "      <td>0000013714</td>\n",
       "      <td>4</td>\n",
       "    </tr>\n",
       "    <tr>\n",
       "      <th>1</th>\n",
       "      <td>A2SUAM1J3GNN3B</td>\n",
       "      <td>0000013714</td>\n",
       "      <td>5</td>\n",
       "    </tr>\n",
       "    <tr>\n",
       "      <th>2</th>\n",
       "      <td>APOZ15IEYQRRR</td>\n",
       "      <td>0000013714</td>\n",
       "      <td>5</td>\n",
       "    </tr>\n",
       "    <tr>\n",
       "      <th>3</th>\n",
       "      <td>AYEDW3BFK53XK</td>\n",
       "      <td>0000013714</td>\n",
       "      <td>5</td>\n",
       "    </tr>\n",
       "    <tr>\n",
       "      <th>4</th>\n",
       "      <td>A1KLCGLCXYP1U1</td>\n",
       "      <td>0000013714</td>\n",
       "      <td>3</td>\n",
       "    </tr>\n",
       "  </tbody>\n",
       "</table>\n",
       "</div>"
      ],
      "text/plain": [
       "       reviewerID        asin  overall\n",
       "0   ACNGUPJ3A3TM9  0000013714        4\n",
       "1  A2SUAM1J3GNN3B  0000013714        5\n",
       "2   APOZ15IEYQRRR  0000013714        5\n",
       "3   AYEDW3BFK53XK  0000013714        5\n",
       "4  A1KLCGLCXYP1U1  0000013714        3"
      ]
     },
     "execution_count": 5,
     "metadata": {},
     "output_type": "execute_result"
    }
   ],
   "source": [
    "kcore_5_compact = pd.read_csv('dataset/kcore_5_compact.csv', names=['reviewerID', 'asin', 'overall'], quotechar='\"')\n",
    "kcore_5_compact.head()"
   ]
  },
  {
   "cell_type": "code",
   "execution_count": 6,
   "id": "52b2e033",
   "metadata": {},
   "outputs": [
    {
     "data": {
      "text/plain": [
       "(41135700, 3)"
      ]
     },
     "execution_count": 6,
     "metadata": {},
     "output_type": "execute_result"
    }
   ],
   "source": [
    "kcore_5_compact.shape"
   ]
  },
  {
   "cell_type": "markdown",
   "id": "20260ad9",
   "metadata": {},
   "source": [
    "## Resample\n",
    "\n",
    "We will resample the data in order to simplify this demonstration and fit all the solution (data/model/etc.) in memory. Note that this will make the reviews dataset not a 5-core anymore, since  some users/items might not have at least 5 reviews after  resampling.\n",
    "\n",
    "It would be possible to use other smaller 5-core files available in the Amazon review data page. However, the difference here is that this sample contains items from multiple product categories."
   ]
  },
  {
   "cell_type": "code",
   "execution_count": 7,
   "id": "fbcbbcc5",
   "metadata": {
    "scrolled": true
   },
   "outputs": [],
   "source": [
    "if not os.path.exists('dataset/kcore_5_compact_sample.csv'):\n",
    "    unique_users = kcore_5_compact['reviewerID'].unique()\n",
    "    user_sample = np.random.choice(unique_users.shape[0], USER_SAMPLES, replace=False)\n",
    "    kcore_5_compact_sample = kcore_5_compact[kcore_5_compact['reviewerID'].isin(unique_users[user_sample])]\n",
    "    kcore_5_compact_sample.to_csv('dataset/kcore_5_compact_sample.csv', mode='a', header=False, index=False, quotechar='\"')"
   ]
  },
  {
   "cell_type": "code",
   "execution_count": 8,
   "id": "fc40e665",
   "metadata": {},
   "outputs": [
    {
     "data": {
      "text/plain": [
       "(135470, 3)"
      ]
     },
     "execution_count": 8,
     "metadata": {},
     "output_type": "execute_result"
    }
   ],
   "source": [
    "kcore_5_compact_sample = pd.read_csv('dataset/kcore_5_compact_sample.csv', names=['reviewerID', 'asin', 'overall'], quotechar='\"')\n",
    "kcore_5_compact_sample.shape"
   ]
  },
  {
   "cell_type": "markdown",
   "id": "9a7be6d9",
   "metadata": {},
   "source": [
    "Now we process the metadata file as well, dropping some columns that will not be used in this demonstration, while also keeping only the products that exists in our 5-core sample.\n",
    "\n",
    "These are the attributes we keep from the product metadata\n",
    "* asin: ID of the product\n",
    "* categories: list of categories the product belongs to\n",
    "* title: name of the product\n",
    "* description: description of the product \n",
    "* related: related products (also bought, also viewed, bought together, buy after viewing)\n",
    "    * also bought: other products that customers bought after purchasing a given product"
   ]
  },
  {
   "cell_type": "code",
   "execution_count": 9,
   "id": "0823e948",
   "metadata": {},
   "outputs": [],
   "source": [
    "if not os.path.exists('dataset/metadata_sample.csv'):\n",
    "\n",
    "    total_sampled_rows = 0\n",
    "    nrows_og_file = 9430088\n",
    "\n",
    "    data = list()\n",
    "    with open('dataset/metadata.json', 'r') as f:\n",
    "        for line in tqdm(f, total=nrows_og_file):\n",
    "            line = ast.literal_eval(line)\n",
    "            [line.pop(key, None) for key in ['imUrl', 'price', 'salesRank', 'brand']]\n",
    "            data.append(line)\n",
    "            if len(data) == CHUNK_SIZE:\n",
    "                chunk = pd.DataFrame.from_dict(data, orient='columns')\n",
    "                chunk = chunk[chunk['asin'].isin(kcore_5_compact_sample['asin'])]\n",
    "                data = list()\n",
    "                chunk = chunk[['asin', 'categories', 'title', 'description', 'related']] \n",
    "                total_sampled_rows += len(chunk)\n",
    "                chunk.to_csv('dataset/metadata_sample.csv', mode='a', header=False, index=False, quotechar='\"')\n",
    "\n",
    "    print(f'Size of the full meta dataset: {total_sampled_rows}')"
   ]
  },
  {
   "cell_type": "code",
   "execution_count": 10,
   "id": "f0a11ed0",
   "metadata": {},
   "outputs": [
    {
     "data": {
      "text/html": [
       "<div>\n",
       "<style scoped>\n",
       "    .dataframe tbody tr th:only-of-type {\n",
       "        vertical-align: middle;\n",
       "    }\n",
       "\n",
       "    .dataframe tbody tr th {\n",
       "        vertical-align: top;\n",
       "    }\n",
       "\n",
       "    .dataframe thead th {\n",
       "        text-align: right;\n",
       "    }\n",
       "</style>\n",
       "<table border=\"1\" class=\"dataframe\">\n",
       "  <thead>\n",
       "    <tr style=\"text-align: right;\">\n",
       "      <th></th>\n",
       "      <th>asin</th>\n",
       "      <th>categories</th>\n",
       "      <th>title</th>\n",
       "      <th>description</th>\n",
       "      <th>related</th>\n",
       "    </tr>\n",
       "  </thead>\n",
       "  <tbody>\n",
       "    <tr>\n",
       "      <th>0</th>\n",
       "      <td>0000589012</td>\n",
       "      <td>[['Movies &amp; TV', 'Movies']]</td>\n",
       "      <td>Why Don't They Just Quit? DVD Roundtable Discu...</td>\n",
       "      <td>NaN</td>\n",
       "      <td>{'also_bought': ['B000Z3N1HQ', '0578045427', '...</td>\n",
       "    </tr>\n",
       "    <tr>\n",
       "      <th>1</th>\n",
       "      <td>000100039X</td>\n",
       "      <td>[['Books']]</td>\n",
       "      <td>The Prophet</td>\n",
       "      <td>In a distant, timeless place, a mysterious pro...</td>\n",
       "      <td>{'also_bought': ['1851686274', '0785830618', '...</td>\n",
       "    </tr>\n",
       "    <tr>\n",
       "      <th>2</th>\n",
       "      <td>0002051850</td>\n",
       "      <td>[['Books']]</td>\n",
       "      <td>For Whom the Bell Tolls</td>\n",
       "      <td>NaN</td>\n",
       "      <td>{'also_bought': ['0684801469', '0743297334', '...</td>\n",
       "    </tr>\n",
       "    <tr>\n",
       "      <th>3</th>\n",
       "      <td>0002007770</td>\n",
       "      <td>[['Books']]</td>\n",
       "      <td>Water For Elephants</td>\n",
       "      <td>NaN</td>\n",
       "      <td>{'also_bought': ['0399155341', '1573222453', '...</td>\n",
       "    </tr>\n",
       "    <tr>\n",
       "      <th>4</th>\n",
       "      <td>0002247399</td>\n",
       "      <td>[['Books']]</td>\n",
       "      <td>A Dance with Dragons</td>\n",
       "      <td>NaN</td>\n",
       "      <td>{'also_bought': ['0553801503', '0553106635', '...</td>\n",
       "    </tr>\n",
       "  </tbody>\n",
       "</table>\n",
       "</div>"
      ],
      "text/plain": [
       "         asin                   categories  \\\n",
       "0  0000589012  [['Movies & TV', 'Movies']]   \n",
       "1  000100039X                  [['Books']]   \n",
       "2  0002051850                  [['Books']]   \n",
       "3  0002007770                  [['Books']]   \n",
       "4  0002247399                  [['Books']]   \n",
       "\n",
       "                                               title  \\\n",
       "0  Why Don't They Just Quit? DVD Roundtable Discu...   \n",
       "1                                        The Prophet   \n",
       "2                            For Whom the Bell Tolls   \n",
       "3                                Water For Elephants   \n",
       "4                               A Dance with Dragons   \n",
       "\n",
       "                                         description  \\\n",
       "0                                                NaN   \n",
       "1  In a distant, timeless place, a mysterious pro...   \n",
       "2                                                NaN   \n",
       "3                                                NaN   \n",
       "4                                                NaN   \n",
       "\n",
       "                                             related  \n",
       "0  {'also_bought': ['B000Z3N1HQ', '0578045427', '...  \n",
       "1  {'also_bought': ['1851686274', '0785830618', '...  \n",
       "2  {'also_bought': ['0684801469', '0743297334', '...  \n",
       "3  {'also_bought': ['0399155341', '1573222453', '...  \n",
       "4  {'also_bought': ['0553801503', '0553106635', '...  "
      ]
     },
     "execution_count": 10,
     "metadata": {},
     "output_type": "execute_result"
    }
   ],
   "source": [
    "meta = pd.read_csv('dataset/metadata_sample.csv', names=['asin', 'categories', 'title', 'description', 'related'], quotechar='\"')\n",
    "meta.head()"
   ]
  },
  {
   "cell_type": "markdown",
   "id": "e2a7c09a",
   "metadata": {},
   "source": [
    "We also remove entries that contains no category or title, since these text-based attributes are used in the Content Based Recommender System we will build."
   ]
  },
  {
   "cell_type": "code",
   "execution_count": 11,
   "id": "a01abd7f",
   "metadata": {},
   "outputs": [
    {
     "data": {
      "text/plain": [
       "(87849, 5)"
      ]
     },
     "execution_count": 11,
     "metadata": {},
     "output_type": "execute_result"
    }
   ],
   "source": [
    "meta = meta.dropna(axis=0, subset=('categories', 'title'))\n",
    "meta.to_csv('dataset/metadata_sample.csv', header=False, index=False, quotechar='\"')\n",
    "meta.shape"
   ]
  },
  {
   "cell_type": "code",
   "execution_count": 12,
   "id": "5fdc9b43",
   "metadata": {},
   "outputs": [
    {
     "data": {
      "text/plain": [
       "(135470, 3)"
      ]
     },
     "execution_count": 12,
     "metadata": {},
     "output_type": "execute_result"
    }
   ],
   "source": [
    "kcore_5_compact_sample.shape"
   ]
  },
  {
   "cell_type": "markdown",
   "id": "d0a23b48",
   "metadata": {},
   "source": [
    "We now check whether we still have a considerable amount of users that rated at least 5 times and items that got at least 5 ratings."
   ]
  },
  {
   "cell_type": "code",
   "execution_count": 13,
   "id": "0312c971",
   "metadata": {},
   "outputs": [
    {
     "data": {
      "text/html": [
       "<div>\n",
       "<style scoped>\n",
       "    .dataframe tbody tr th:only-of-type {\n",
       "        vertical-align: middle;\n",
       "    }\n",
       "\n",
       "    .dataframe tbody tr th {\n",
       "        vertical-align: top;\n",
       "    }\n",
       "\n",
       "    .dataframe thead th {\n",
       "        text-align: right;\n",
       "    }\n",
       "</style>\n",
       "<table border=\"1\" class=\"dataframe\">\n",
       "  <thead>\n",
       "    <tr style=\"text-align: right;\">\n",
       "      <th></th>\n",
       "      <th>count</th>\n",
       "    </tr>\n",
       "    <tr>\n",
       "      <th>reviewerID</th>\n",
       "      <th></th>\n",
       "    </tr>\n",
       "  </thead>\n",
       "  <tbody>\n",
       "    <tr>\n",
       "      <th>A01338202O0PRUBIBEPNF</th>\n",
       "      <td>5</td>\n",
       "    </tr>\n",
       "    <tr>\n",
       "      <th>A2NW337W0ZCZHT</th>\n",
       "      <td>5</td>\n",
       "    </tr>\n",
       "    <tr>\n",
       "      <th>A2NWRZHM0E9O03</th>\n",
       "      <td>5</td>\n",
       "    </tr>\n",
       "    <tr>\n",
       "      <th>A2NY95RRTI3Z6W</th>\n",
       "      <td>5</td>\n",
       "    </tr>\n",
       "    <tr>\n",
       "      <th>A2NYK433VLN57H</th>\n",
       "      <td>5</td>\n",
       "    </tr>\n",
       "    <tr>\n",
       "      <th>...</th>\n",
       "      <td>...</td>\n",
       "    </tr>\n",
       "    <tr>\n",
       "      <th>A2Y3ZGVRA3S23L</th>\n",
       "      <td>368</td>\n",
       "    </tr>\n",
       "    <tr>\n",
       "      <th>A3P3UOHYBFRGJN</th>\n",
       "      <td>447</td>\n",
       "    </tr>\n",
       "    <tr>\n",
       "      <th>A1X2LENOF84LCQ</th>\n",
       "      <td>568</td>\n",
       "    </tr>\n",
       "    <tr>\n",
       "      <th>A34CSXOGVYF94S</th>\n",
       "      <td>669</td>\n",
       "    </tr>\n",
       "    <tr>\n",
       "      <th>A3N8RZSXKN1OR2</th>\n",
       "      <td>729</td>\n",
       "    </tr>\n",
       "  </tbody>\n",
       "</table>\n",
       "<p>10000 rows × 1 columns</p>\n",
       "</div>"
      ],
      "text/plain": [
       "                       count\n",
       "reviewerID                  \n",
       "A01338202O0PRUBIBEPNF      5\n",
       "A2NW337W0ZCZHT             5\n",
       "A2NWRZHM0E9O03             5\n",
       "A2NY95RRTI3Z6W             5\n",
       "A2NYK433VLN57H             5\n",
       "...                      ...\n",
       "A2Y3ZGVRA3S23L           368\n",
       "A3P3UOHYBFRGJN           447\n",
       "A1X2LENOF84LCQ           568\n",
       "A34CSXOGVYF94S           669\n",
       "A3N8RZSXKN1OR2           729\n",
       "\n",
       "[10000 rows x 1 columns]"
      ]
     },
     "execution_count": 13,
     "metadata": {},
     "output_type": "execute_result"
    }
   ],
   "source": [
    "user_count = kcore_5_compact_sample.groupby('reviewerID').size().to_frame('count').sort_values(by='count') \n",
    "user_count[user_count['count'] > 4]"
   ]
  },
  {
   "cell_type": "code",
   "execution_count": 14,
   "id": "4ef50e40",
   "metadata": {},
   "outputs": [
    {
     "data": {
      "text/html": [
       "<div>\n",
       "<style scoped>\n",
       "    .dataframe tbody tr th:only-of-type {\n",
       "        vertical-align: middle;\n",
       "    }\n",
       "\n",
       "    .dataframe tbody tr th {\n",
       "        vertical-align: top;\n",
       "    }\n",
       "\n",
       "    .dataframe thead th {\n",
       "        text-align: right;\n",
       "    }\n",
       "</style>\n",
       "<table border=\"1\" class=\"dataframe\">\n",
       "  <thead>\n",
       "    <tr style=\"text-align: right;\">\n",
       "      <th></th>\n",
       "      <th>count</th>\n",
       "    </tr>\n",
       "    <tr>\n",
       "      <th>reviewerID</th>\n",
       "      <th></th>\n",
       "    </tr>\n",
       "  </thead>\n",
       "  <tbody>\n",
       "    <tr>\n",
       "      <th>A01338202O0PRUBIBEPNF</th>\n",
       "      <td>5</td>\n",
       "    </tr>\n",
       "    <tr>\n",
       "      <th>A2NW337W0ZCZHT</th>\n",
       "      <td>5</td>\n",
       "    </tr>\n",
       "    <tr>\n",
       "      <th>A2NWRZHM0E9O03</th>\n",
       "      <td>5</td>\n",
       "    </tr>\n",
       "    <tr>\n",
       "      <th>A2NY95RRTI3Z6W</th>\n",
       "      <td>5</td>\n",
       "    </tr>\n",
       "    <tr>\n",
       "      <th>A2NYK433VLN57H</th>\n",
       "      <td>5</td>\n",
       "    </tr>\n",
       "    <tr>\n",
       "      <th>...</th>\n",
       "      <td>...</td>\n",
       "    </tr>\n",
       "    <tr>\n",
       "      <th>A2Y3ZGVRA3S23L</th>\n",
       "      <td>368</td>\n",
       "    </tr>\n",
       "    <tr>\n",
       "      <th>A3P3UOHYBFRGJN</th>\n",
       "      <td>447</td>\n",
       "    </tr>\n",
       "    <tr>\n",
       "      <th>A1X2LENOF84LCQ</th>\n",
       "      <td>568</td>\n",
       "    </tr>\n",
       "    <tr>\n",
       "      <th>A34CSXOGVYF94S</th>\n",
       "      <td>669</td>\n",
       "    </tr>\n",
       "    <tr>\n",
       "      <th>A3N8RZSXKN1OR2</th>\n",
       "      <td>729</td>\n",
       "    </tr>\n",
       "  </tbody>\n",
       "</table>\n",
       "<p>10000 rows × 1 columns</p>\n",
       "</div>"
      ],
      "text/plain": [
       "                       count\n",
       "reviewerID                  \n",
       "A01338202O0PRUBIBEPNF      5\n",
       "A2NW337W0ZCZHT             5\n",
       "A2NWRZHM0E9O03             5\n",
       "A2NY95RRTI3Z6W             5\n",
       "A2NYK433VLN57H             5\n",
       "...                      ...\n",
       "A2Y3ZGVRA3S23L           368\n",
       "A3P3UOHYBFRGJN           447\n",
       "A1X2LENOF84LCQ           568\n",
       "A34CSXOGVYF94S           669\n",
       "A3N8RZSXKN1OR2           729\n",
       "\n",
       "[10000 rows x 1 columns]"
      ]
     },
     "execution_count": 14,
     "metadata": {},
     "output_type": "execute_result"
    }
   ],
   "source": [
    "user_count"
   ]
  },
  {
   "cell_type": "code",
   "execution_count": 15,
   "id": "490b6944",
   "metadata": {},
   "outputs": [
    {
     "data": {
      "text/html": [
       "<div>\n",
       "<style scoped>\n",
       "    .dataframe tbody tr th:only-of-type {\n",
       "        vertical-align: middle;\n",
       "    }\n",
       "\n",
       "    .dataframe tbody tr th {\n",
       "        vertical-align: top;\n",
       "    }\n",
       "\n",
       "    .dataframe thead th {\n",
       "        text-align: right;\n",
       "    }\n",
       "</style>\n",
       "<table border=\"1\" class=\"dataframe\">\n",
       "  <thead>\n",
       "    <tr style=\"text-align: right;\">\n",
       "      <th></th>\n",
       "      <th>count</th>\n",
       "    </tr>\n",
       "    <tr>\n",
       "      <th>asin</th>\n",
       "      <th></th>\n",
       "    </tr>\n",
       "  </thead>\n",
       "  <tbody>\n",
       "    <tr>\n",
       "      <th>0007447868</th>\n",
       "      <td>6</td>\n",
       "    </tr>\n",
       "    <tr>\n",
       "      <th>0060573775</th>\n",
       "      <td>6</td>\n",
       "    </tr>\n",
       "    <tr>\n",
       "      <th>B0058UUR6E</th>\n",
       "      <td>6</td>\n",
       "    </tr>\n",
       "    <tr>\n",
       "      <th>B006HJKKCG</th>\n",
       "      <td>6</td>\n",
       "    </tr>\n",
       "    <tr>\n",
       "      <th>B00609B3J2</th>\n",
       "      <td>6</td>\n",
       "    </tr>\n",
       "    <tr>\n",
       "      <th>...</th>\n",
       "      <td>...</td>\n",
       "    </tr>\n",
       "    <tr>\n",
       "      <th>0439023483</th>\n",
       "      <td>36</td>\n",
       "    </tr>\n",
       "    <tr>\n",
       "      <th>030758836X</th>\n",
       "      <td>37</td>\n",
       "    </tr>\n",
       "    <tr>\n",
       "      <th>B0074BW614</th>\n",
       "      <td>41</td>\n",
       "    </tr>\n",
       "    <tr>\n",
       "      <th>B0051VVOB2</th>\n",
       "      <td>43</td>\n",
       "    </tr>\n",
       "    <tr>\n",
       "      <th>B00FAPF5U0</th>\n",
       "      <td>53</td>\n",
       "    </tr>\n",
       "  </tbody>\n",
       "</table>\n",
       "<p>826 rows × 1 columns</p>\n",
       "</div>"
      ],
      "text/plain": [
       "            count\n",
       "asin             \n",
       "0007447868      6\n",
       "0060573775      6\n",
       "B0058UUR6E      6\n",
       "B006HJKKCG      6\n",
       "B00609B3J2      6\n",
       "...           ...\n",
       "0439023483     36\n",
       "030758836X     37\n",
       "B0074BW614     41\n",
       "B0051VVOB2     43\n",
       "B00FAPF5U0     53\n",
       "\n",
       "[826 rows x 1 columns]"
      ]
     },
     "execution_count": 15,
     "metadata": {},
     "output_type": "execute_result"
    }
   ],
   "source": [
    "item_count = kcore_5_compact_sample.groupby('asin').size().to_frame('count').sort_values(by='count') \n",
    "item_count[item_count['count'] > 5]"
   ]
  },
  {
   "cell_type": "markdown",
   "id": "405aad5f",
   "metadata": {},
   "source": [
    "After completing the essential preprocessing steps on the data in this notebook, we can proceed to execute the other notebooks."
   ]
  }
 ],
 "metadata": {
  "kernelspec": {
   "display_name": "Python 3 (ipykernel)",
   "language": "python",
   "name": "python3"
  },
  "language_info": {
   "codemirror_mode": {
    "name": "ipython",
    "version": 3
   },
   "file_extension": ".py",
   "mimetype": "text/x-python",
   "name": "python",
   "nbconvert_exporter": "python",
   "pygments_lexer": "ipython3",
   "version": "3.9.13"
  }
 },
 "nbformat": 4,
 "nbformat_minor": 5
}
